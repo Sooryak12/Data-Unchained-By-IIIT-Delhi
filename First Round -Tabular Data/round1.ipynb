{
 "cells": [
  {
   "cell_type": "code",
   "execution_count": 261,
   "metadata": {},
   "outputs": [],
   "source": [
    "import pandas as pd\n",
    "import matplotlib.pyplot as plt\n",
    "import seaborn as sns\n",
    "import numpy as np\n",
    "import pickle\n",
    "import tensorflow as tf\n",
    "from  sklearn.model_selection import train_test_split,GridSearchCV,cross_val_score\n",
    "from sklearn.linear_model import Ridge,Lasso,LogisticRegression\n",
    "from xgboost import XGBClassifier\n",
    "from sklearn import svm\n",
    "from sklearn.metrics import mean_absolute_error\n",
    "from sklearn.metrics import classification_report,confusion_matrix,roc_auc_score"
   ]
  },
  {
   "cell_type": "code",
   "execution_count": 262,
   "metadata": {},
   "outputs": [],
   "source": [
    "df=pd.read_csv(\"Train_data_players.csv\",index_col=0)\n",
    "dft=pd.read_csv(\"Test_data_player.csv\",index_col=0)"
   ]
  },
  {
   "cell_type": "code",
   "execution_count": 263,
   "metadata": {},
   "outputs": [],
   "source": [
    "dft_sub=pd.read_csv(\"Test_data_player.csv\")"
   ]
  },
  {
   "cell_type": "code",
   "execution_count": 264,
   "metadata": {},
   "outputs": [
    {
     "name": "stdout",
     "output_type": "stream",
     "text": [
      "<class 'pandas.core.frame.DataFrame'>\n",
      "Int64Index: 195 entries, 246048 to 348232\n",
      "Data columns (total 19 columns):\n",
      " #   Column              Non-Null Count  Dtype \n",
      "---  ------              --------------  ----- \n",
      " 0   Batting Avg.        195 non-null    object\n",
      " 1   Strike rate         195 non-null    int64 \n",
      " 2   L/R Handed Batsman  195 non-null    object\n",
      " 3   Wicket keeping      195 non-null    int64 \n",
      " 4   economy             195 non-null    int64 \n",
      " 5   avg speed           195 non-null    int64 \n",
      " 6   fitness index       195 non-null    int64 \n",
      " 7   Sixes               195 non-null    int64 \n",
      " 8   fours               195 non-null    int64 \n",
      " 9   Fast bowling        195 non-null    int64 \n",
      " 10  Leg Spin            195 non-null    int64 \n",
      " 11  Off Spin            195 non-null    int64 \n",
      " 12  against fast bowl   195 non-null    int64 \n",
      " 13  against leg spin    195 non-null    int64 \n",
      " 14  against off spin    195 non-null    int64 \n",
      " 15  Fanbase             195 non-null    int64 \n",
      " 16  Catch percentage    195 non-null    int64 \n",
      " 17  Region              195 non-null    object\n",
      " 18  Not selected        195 non-null    int64 \n",
      "dtypes: int64(16), object(3)\n",
      "memory usage: 30.5+ KB\n"
     ]
    },
    {
     "data": {
      "text/plain": [
       "None"
      ]
     },
     "metadata": {},
     "output_type": "display_data"
    },
    {
     "data": {
      "text/html": [
       "<div>\n",
       "<style scoped>\n",
       "    .dataframe tbody tr th:only-of-type {\n",
       "        vertical-align: middle;\n",
       "    }\n",
       "\n",
       "    .dataframe tbody tr th {\n",
       "        vertical-align: top;\n",
       "    }\n",
       "\n",
       "    .dataframe thead th {\n",
       "        text-align: right;\n",
       "    }\n",
       "</style>\n",
       "<table border=\"1\" class=\"dataframe\">\n",
       "  <thead>\n",
       "    <tr style=\"text-align: right;\">\n",
       "      <th></th>\n",
       "      <th>Batting Avg.</th>\n",
       "      <th>Strike rate</th>\n",
       "      <th>L/R Handed Batsman</th>\n",
       "      <th>Wicket keeping</th>\n",
       "      <th>economy</th>\n",
       "      <th>avg speed</th>\n",
       "      <th>fitness index</th>\n",
       "      <th>Sixes</th>\n",
       "      <th>fours</th>\n",
       "      <th>Fast bowling</th>\n",
       "      <th>Leg Spin</th>\n",
       "      <th>Off Spin</th>\n",
       "      <th>against fast bowl</th>\n",
       "      <th>against leg spin</th>\n",
       "      <th>against off spin</th>\n",
       "      <th>Fanbase</th>\n",
       "      <th>Catch percentage</th>\n",
       "      <th>Region</th>\n",
       "      <th>Not selected</th>\n",
       "    </tr>\n",
       "    <tr>\n",
       "      <th>player ID</th>\n",
       "      <th></th>\n",
       "      <th></th>\n",
       "      <th></th>\n",
       "      <th></th>\n",
       "      <th></th>\n",
       "      <th></th>\n",
       "      <th></th>\n",
       "      <th></th>\n",
       "      <th></th>\n",
       "      <th></th>\n",
       "      <th></th>\n",
       "      <th></th>\n",
       "      <th></th>\n",
       "      <th></th>\n",
       "      <th></th>\n",
       "      <th></th>\n",
       "      <th></th>\n",
       "      <th></th>\n",
       "      <th></th>\n",
       "    </tr>\n",
       "  </thead>\n",
       "  <tbody>\n",
       "    <tr>\n",
       "      <th>246048</th>\n",
       "      <td>1</td>\n",
       "      <td>4</td>\n",
       "      <td>2</td>\n",
       "      <td>6</td>\n",
       "      <td>5</td>\n",
       "      <td>6</td>\n",
       "      <td>6</td>\n",
       "      <td>6</td>\n",
       "      <td>6</td>\n",
       "      <td>6</td>\n",
       "      <td>5</td>\n",
       "      <td>6</td>\n",
       "      <td>7</td>\n",
       "      <td>7</td>\n",
       "      <td>5</td>\n",
       "      <td>7</td>\n",
       "      <td>6</td>\n",
       "      <td>RGB7</td>\n",
       "      <td>0</td>\n",
       "    </tr>\n",
       "    <tr>\n",
       "      <th>387987</th>\n",
       "      <td>1</td>\n",
       "      <td>2</td>\n",
       "      <td>1</td>\n",
       "      <td>5</td>\n",
       "      <td>7</td>\n",
       "      <td>10</td>\n",
       "      <td>10</td>\n",
       "      <td>6</td>\n",
       "      <td>2</td>\n",
       "      <td>7</td>\n",
       "      <td>3</td>\n",
       "      <td>7</td>\n",
       "      <td>8</td>\n",
       "      <td>9</td>\n",
       "      <td>6</td>\n",
       "      <td>6</td>\n",
       "      <td>9</td>\n",
       "      <td>RGB10</td>\n",
       "      <td>1</td>\n",
       "    </tr>\n",
       "    <tr>\n",
       "      <th>788442</th>\n",
       "      <td>3</td>\n",
       "      <td>4</td>\n",
       "      <td>1</td>\n",
       "      <td>5</td>\n",
       "      <td>7</td>\n",
       "      <td>2</td>\n",
       "      <td>5</td>\n",
       "      <td>3</td>\n",
       "      <td>5</td>\n",
       "      <td>5</td>\n",
       "      <td>5</td>\n",
       "      <td>3</td>\n",
       "      <td>7</td>\n",
       "      <td>7</td>\n",
       "      <td>5</td>\n",
       "      <td>7</td>\n",
       "      <td>7</td>\n",
       "      <td>RGB6</td>\n",
       "      <td>0</td>\n",
       "    </tr>\n",
       "    <tr>\n",
       "      <th>465918</th>\n",
       "      <td>0</td>\n",
       "      <td>5</td>\n",
       "      <td>1</td>\n",
       "      <td>7</td>\n",
       "      <td>5</td>\n",
       "      <td>6</td>\n",
       "      <td>5</td>\n",
       "      <td>9</td>\n",
       "      <td>4</td>\n",
       "      <td>6</td>\n",
       "      <td>5</td>\n",
       "      <td>8</td>\n",
       "      <td>7</td>\n",
       "      <td>9</td>\n",
       "      <td>5</td>\n",
       "      <td>7</td>\n",
       "      <td>6</td>\n",
       "      <td>RGB8</td>\n",
       "      <td>0</td>\n",
       "    </tr>\n",
       "    <tr>\n",
       "      <th>295804</th>\n",
       "      <td>0</td>\n",
       "      <td>5</td>\n",
       "      <td>1</td>\n",
       "      <td>6</td>\n",
       "      <td>7</td>\n",
       "      <td>7</td>\n",
       "      <td>7</td>\n",
       "      <td>9</td>\n",
       "      <td>5</td>\n",
       "      <td>7</td>\n",
       "      <td>7</td>\n",
       "      <td>7</td>\n",
       "      <td>8</td>\n",
       "      <td>8</td>\n",
       "      <td>8</td>\n",
       "      <td>9</td>\n",
       "      <td>5</td>\n",
       "      <td>RGB1</td>\n",
       "      <td>0</td>\n",
       "    </tr>\n",
       "  </tbody>\n",
       "</table>\n",
       "</div>"
      ],
      "text/plain": [
       "          Batting Avg.  Strike rate L/R Handed Batsman  Wicket keeping  \\\n",
       "player ID                                                                \n",
       "246048               1            4                  2               6   \n",
       "387987               1            2                  1               5   \n",
       "788442               3            4                  1               5   \n",
       "465918               0            5                  1               7   \n",
       "295804               0            5                  1               6   \n",
       "\n",
       "           economy  avg speed  fitness index  Sixes  fours  Fast bowling  \\\n",
       "player ID                                                                  \n",
       "246048           5          6              6      6      6             6   \n",
       "387987           7         10             10      6      2             7   \n",
       "788442           7          2              5      3      5             5   \n",
       "465918           5          6              5      9      4             6   \n",
       "295804           7          7              7      9      5             7   \n",
       "\n",
       "           Leg Spin  Off Spin  against fast bowl  against leg spin  \\\n",
       "player ID                                                            \n",
       "246048            5         6                  7                 7   \n",
       "387987            3         7                  8                 9   \n",
       "788442            5         3                  7                 7   \n",
       "465918            5         8                  7                 9   \n",
       "295804            7         7                  8                 8   \n",
       "\n",
       "           against off spin  Fanbase  Catch percentage Region  Not selected  \n",
       "player ID                                                                    \n",
       "246048                    5        7                 6   RGB7             0  \n",
       "387987                    6        6                 9  RGB10             1  \n",
       "788442                    5        7                 7   RGB6             0  \n",
       "465918                    5        7                 6   RGB8             0  \n",
       "295804                    8        9                 5   RGB1             0  "
      ]
     },
     "execution_count": 264,
     "metadata": {},
     "output_type": "execute_result"
    }
   ],
   "source": [
    "display(df.info())\n",
    "df.head()"
   ]
  },
  {
   "cell_type": "code",
   "execution_count": 241,
   "metadata": {},
   "outputs": [
    {
     "data": {
      "text/plain": [
       "RGB8     25\n",
       "RGB6     22\n",
       "RGB9     20\n",
       "RGB7     20\n",
       "RGB2     19\n",
       "RGB5     19\n",
       "RGB3     18\n",
       "RGB1     18\n",
       "RGB10    17\n",
       "RGB4     17\n",
       "Name: Region, dtype: int64"
      ]
     },
     "execution_count": 241,
     "metadata": {},
     "output_type": "execute_result"
    }
   ],
   "source": [
    "df[\"Region\"].value_counts()"
   ]
  },
  {
   "cell_type": "code",
   "execution_count": 242,
   "metadata": {},
   "outputs": [
    {
     "data": {
      "text/plain": [
       "Region\n",
       "RGB3     0\n",
       "RGB4     0\n",
       "RGB1     2\n",
       "RGB10    2\n",
       "RGB2     2\n",
       "RGB7     2\n",
       "RGB9     2\n",
       "RGB5     5\n",
       "RGB6     7\n",
       "RGB8     7\n",
       "Name: Not selected, dtype: int64"
      ]
     },
     "execution_count": 242,
     "metadata": {},
     "output_type": "execute_result"
    }
   ],
   "source": [
    "df.groupby(by=\"Region\").sum()[\"Not selected\"].sort_values()"
   ]
  },
  {
   "cell_type": "code",
   "execution_count": 265,
   "metadata": {},
   "outputs": [
    {
     "data": {
      "text/plain": [
       "1    122\n",
       "2     69\n",
       "Name: L/R Handed Batsman, dtype: int64"
      ]
     },
     "execution_count": 265,
     "metadata": {},
     "output_type": "execute_result"
    }
   ],
   "source": [
    "df[\"L/R Handed Batsman\"].replace(\"na\",np.nan,inplace=True)\n",
    "df[\"L/R Handed Batsman\"].replace(\"*\",np.nan,inplace=True)\n",
    "df[\"L/R Handed Batsman\"].value_counts(dropna=\"False\")"
   ]
  },
  {
   "cell_type": "code",
   "execution_count": 266,
   "metadata": {},
   "outputs": [],
   "source": [
    "df[\"L/R Handed Batsman\"].fillna(method=\"bfill\",inplace=True)\n",
    "df[\"L/R Handed Batsman\"].value_counts(dropna=\"False\")\n",
    "df[\"L/R Handed Batsman\"]=df[\"L/R Handed Batsman\"].astype(\"int64\")"
   ]
  },
  {
   "cell_type": "code",
   "execution_count": 267,
   "metadata": {},
   "outputs": [
    {
     "data": {
      "text/plain": [
       "1    123\n",
       "2     72\n",
       "Name: L/R Handed Batsman, dtype: int64"
      ]
     },
     "execution_count": 267,
     "metadata": {},
     "output_type": "execute_result"
    }
   ],
   "source": [
    "df[\"L/R Handed Batsman\"].value_counts(dropna=\"False\")"
   ]
  },
  {
   "cell_type": "code",
   "execution_count": 268,
   "metadata": {},
   "outputs": [],
   "source": [
    "df[\"Batting Avg.\"].value_counts(dropna=False)\n",
    "df[\"Batting Avg.\"].replace(\"na\",\"0\",inplace=True)\n",
    "df[\"Batting Avg.\"].value_counts(dropna=False)\n",
    "df[\"Batting Avg.\"]=df[\"Batting Avg.\"].astype(\"int64\")"
   ]
  },
  {
   "cell_type": "code",
   "execution_count": 269,
   "metadata": {},
   "outputs": [
    {
     "data": {
      "text/plain": [
       "1    45\n",
       "6    43\n",
       "0    42\n",
       "2    35\n",
       "3    27\n",
       "4     3\n",
       "Name: Batting Avg., dtype: int64"
      ]
     },
     "execution_count": 269,
     "metadata": {},
     "output_type": "execute_result"
    }
   ],
   "source": [
    "df[\"Batting Avg.\"].value_counts()"
   ]
  },
  {
   "cell_type": "code",
   "execution_count": 270,
   "metadata": {},
   "outputs": [],
   "source": [
    "def convert(x):\n",
    "    y=x.replace(\"RGB\",\"\")\n",
    "    return int(y)"
   ]
  },
  {
   "cell_type": "code",
   "execution_count": 271,
   "metadata": {},
   "outputs": [],
   "source": [
    "df[\"Region\"]=df[\"Region\"].apply(convert)"
   ]
  },
  {
   "cell_type": "code",
   "execution_count": 272,
   "metadata": {},
   "outputs": [],
   "source": [
    "cols=list(df.columns)\n",
    "for i in cols:\n",
    "    df[i].replace(-3,0,inplace=True)\n",
    "    df[i].replace(-1,0,inplace=True)"
   ]
  },
  {
   "cell_type": "code",
   "execution_count": 273,
   "metadata": {},
   "outputs": [
    {
     "data": {
      "text/plain": [
       "Index(['Batting Avg.', 'Strike rate', 'L/R Handed Batsman', 'Wicket keeping',\n",
       "       'economy', 'avg speed', 'fitness index', 'Sixes', 'fours',\n",
       "       'Fast bowling', 'Leg Spin', 'Off Spin', 'against fast bowl',\n",
       "       'against leg spin', 'against off spin', 'Fanbase', 'Catch percentage',\n",
       "       'Region', 'Not selected'],\n",
       "      dtype='object')"
      ]
     },
     "execution_count": 273,
     "metadata": {},
     "output_type": "execute_result"
    }
   ],
   "source": [
    "df.columns"
   ]
  },
  {
   "cell_type": "code",
   "execution_count": 274,
   "metadata": {},
   "outputs": [
    {
     "name": "stdout",
     "output_type": "stream",
     "text": [
      "Batting Avg.\n",
      "1    45\n",
      "6    43\n",
      "0    42\n",
      "2    35\n",
      "3    27\n",
      "4     3\n",
      "Name: Batting Avg., dtype: int64\n",
      "Strike rate\n",
      "4    60\n",
      "5    51\n",
      "3    47\n",
      "2    35\n",
      "1     2\n",
      "Name: Strike rate, dtype: int64\n",
      "L/R Handed Batsman\n",
      "1    123\n",
      "2     72\n",
      "Name: L/R Handed Batsman, dtype: int64\n",
      "Wicket keeping\n",
      "7     37\n",
      "8     34\n",
      "6     27\n",
      "5     27\n",
      "9     25\n",
      "10    20\n",
      "4     13\n",
      "2      6\n",
      "0      4\n",
      "3      2\n",
      "Name: Wicket keeping, dtype: int64\n",
      "economy\n",
      "5     37\n",
      "6     34\n",
      "7     30\n",
      "8     28\n",
      "10    22\n",
      "9     16\n",
      "4     12\n",
      "0      6\n",
      "2      5\n",
      "3      4\n",
      "1      1\n",
      "Name: economy, dtype: int64\n",
      "avg speed\n",
      "6     41\n",
      "7     40\n",
      "8     38\n",
      "10    19\n",
      "9     19\n",
      "5     16\n",
      "4     11\n",
      "2      5\n",
      "3      3\n",
      "0      3\n",
      "Name: avg speed, dtype: int64\n",
      "fitness index\n",
      "8     43\n",
      "7     38\n",
      "5     35\n",
      "10    23\n",
      "6     23\n",
      "9     14\n",
      "4      8\n",
      "0      5\n",
      "3      2\n",
      "2      2\n",
      "1      2\n",
      "Name: fitness index, dtype: int64\n",
      "Sixes\n",
      "8     49\n",
      "7     35\n",
      "6     27\n",
      "5     25\n",
      "9     18\n",
      "10    15\n",
      "0     11\n",
      "4      8\n",
      "3      5\n",
      "2      2\n",
      "Name: Sixes, dtype: int64\n",
      "fours\n",
      "6     41\n",
      "5     39\n",
      "8     26\n",
      "7     23\n",
      "4     16\n",
      "9     15\n",
      "10    11\n",
      "3      9\n",
      "0      7\n",
      "2      5\n",
      "1      3\n",
      "Name: fours, dtype: int64\n",
      "Fast bowling\n",
      "6     42\n",
      "7     36\n",
      "8     32\n",
      "5     20\n",
      "10    17\n",
      "4     15\n",
      "3     10\n",
      "9      8\n",
      "2      7\n",
      "1      4\n",
      "0      4\n",
      "Name: Fast bowling, dtype: int64\n",
      "Leg Spin\n",
      "8     41\n",
      "6     41\n",
      "7     32\n",
      "5     25\n",
      "4     12\n",
      "9     11\n",
      "10    10\n",
      "3      9\n",
      "0      8\n",
      "2      4\n",
      "1      2\n",
      "Name: Leg Spin, dtype: int64\n",
      "Off Spin\n",
      "7     48\n",
      "6     38\n",
      "8     29\n",
      "5     28\n",
      "9     16\n",
      "10    11\n",
      "0     11\n",
      "4      6\n",
      "3      5\n",
      "2      2\n",
      "1      1\n",
      "Name: Off Spin, dtype: int64\n",
      "against fast bowl\n",
      "8     42\n",
      "7     40\n",
      "10    29\n",
      "9     28\n",
      "6     23\n",
      "5     17\n",
      "4      5\n",
      "0      5\n",
      "3      3\n",
      "2      2\n",
      "1      1\n",
      "Name: against fast bowl, dtype: int64\n",
      "against leg spin\n",
      "8     43\n",
      "9     41\n",
      "10    34\n",
      "7     28\n",
      "6     21\n",
      "5     16\n",
      "4      6\n",
      "0      5\n",
      "1      1\n",
      "Name: against leg spin, dtype: int64\n",
      "against off spin\n",
      " 8     45\n",
      " 7     31\n",
      " 5     31\n",
      " 9     24\n",
      " 6     22\n",
      " 10    16\n",
      " 0     14\n",
      " 4      5\n",
      " 3      2\n",
      " 2      2\n",
      " 1      2\n",
      "-2      1\n",
      "Name: against off spin, dtype: int64\n",
      "Fanbase\n",
      "8     47\n",
      "7     41\n",
      "9     36\n",
      "10    26\n",
      "6     19\n",
      "5     10\n",
      "0      6\n",
      "4      4\n",
      "3      4\n",
      "2      2\n",
      "Name: Fanbase, dtype: int64\n",
      "Catch percentage\n",
      "6     40\n",
      "5     35\n",
      "7     33\n",
      "8     32\n",
      "10    17\n",
      "9     10\n",
      "2      8\n",
      "3      7\n",
      "4      6\n",
      "0      6\n",
      "1      1\n",
      "Name: Catch percentage, dtype: int64\n",
      "Region\n",
      "8     25\n",
      "6     22\n",
      "9     20\n",
      "7     20\n",
      "5     19\n",
      "2     19\n",
      "3     18\n",
      "1     18\n",
      "10    17\n",
      "4     17\n",
      "Name: Region, dtype: int64\n",
      "Not selected\n",
      "0    166\n",
      "1     29\n",
      "Name: Not selected, dtype: int64\n"
     ]
    }
   ],
   "source": [
    "for i in list(df.columns):\n",
    "    print(i)\n",
    "    print(df[i].value_counts())"
   ]
  },
  {
   "cell_type": "code",
   "execution_count": 275,
   "metadata": {},
   "outputs": [],
   "source": [
    "df=pd.concat([df,pd.get_dummies(df[\"Region\"],drop_first=True,prefix_sep=\"-\")],axis=1)\n",
    "df.drop(\"Region\",axis=1,inplace=True)"
   ]
  },
  {
   "cell_type": "code",
   "execution_count": 276,
   "metadata": {},
   "outputs": [],
   "source": [
    "X_train, X_test, y_train, y_test = train_test_split(df.drop([\"Not selected\"],axis=1),df[\"Not selected\"], test_size=0.33, random_state=12)"
   ]
  },
  {
   "cell_type": "code",
   "execution_count": 255,
   "metadata": {},
   "outputs": [
    {
     "name": "stdout",
     "output_type": "stream",
     "text": [
      "              precision    recall  f1-score   support\n",
      "\n",
      "           0       0.85      0.98      0.91        54\n",
      "           1       0.67      0.18      0.29        11\n",
      "\n",
      "    accuracy                           0.85        65\n",
      "   macro avg       0.76      0.58      0.60        65\n",
      "weighted avg       0.82      0.85      0.81        65\n",
      "\n",
      "[[53  1]\n",
      " [ 9  2]]\n",
      "0.15384615384615385\n",
      "0.5816498316498318\n"
     ]
    }
   ],
   "source": [
    "xgb=XGBClassifier()\n",
    "xgb.fit(X_train,y_train)\n",
    "pred=xgb.predict(X_test)\n",
    "print(classification_report(y_test,pred))\n",
    "print(confusion_matrix(y_test,pred))\n",
    "xgb.score(X_test,y_test)\n",
    "print(mean_absolute_error(y_test,pred))\n",
    "print(roc_auc_score(y_test,pred))"
   ]
  },
  {
   "cell_type": "code",
   "execution_count": 256,
   "metadata": {},
   "outputs": [
    {
     "data": {
      "text/plain": [
       "array([0, 0, 0, 0, 0, 1, 0, 0, 0, 0, 0, 0, 0, 0, 0, 1, 0, 0, 0, 0, 0, 0,\n",
       "       0, 0, 0, 0, 0, 0, 0, 0, 0, 0, 0, 0, 0, 0, 0, 0, 0, 0, 0, 0, 0, 0,\n",
       "       0, 0, 0, 0, 0, 0], dtype=int64)"
      ]
     },
     "execution_count": 256,
     "metadata": {},
     "output_type": "execute_result"
    }
   ],
   "source": [
    "dft=preprocess(dft)\n",
    "xgb_pred=xgb.predict(dft)\n",
    "xgb_pred\n"
   ]
  },
  {
   "cell_type": "code",
   "execution_count": 217,
   "metadata": {},
   "outputs": [
    {
     "name": "stdout",
     "output_type": "stream",
     "text": [
      "              precision    recall  f1-score   support\n",
      "\n",
      "           0       0.84      0.96      0.90        54\n",
      "           1       0.33      0.09      0.14        11\n",
      "\n",
      "    accuracy                           0.82        65\n",
      "   macro avg       0.59      0.53      0.52        65\n",
      "weighted avg       0.75      0.82      0.77        65\n",
      "\n",
      "[[52  2]\n",
      " [10  1]]\n",
      "0.8153846153846154\n",
      "0.5269360269360269\n"
     ]
    },
    {
     "name": "stderr",
     "output_type": "stream",
     "text": [
      "C:\\Users\\soory\\.conda\\envs\\tensorflow\\lib\\site-packages\\sklearn\\linear_model\\_logistic.py:764: ConvergenceWarning: lbfgs failed to converge (status=1):\n",
      "STOP: TOTAL NO. of ITERATIONS REACHED LIMIT.\n",
      "\n",
      "Increase the number of iterations (max_iter) or scale the data as shown in:\n",
      "    https://scikit-learn.org/stable/modules/preprocessing.html\n",
      "Please also refer to the documentation for alternative solver options:\n",
      "    https://scikit-learn.org/stable/modules/linear_model.html#logistic-regression\n",
      "  extra_warning_msg=_LOGISTIC_SOLVER_CONVERGENCE_MSG)\n"
     ]
    }
   ],
   "source": [
    "lr=LogisticRegression()\n",
    "lr.fit(X_train,y_train)\n",
    "pred=lr.predict(X_test)\n",
    "print(classification_report(y_test,pred))\n",
    "print(confusion_matrix(y_test,pred))\n",
    "print(lr.score(X_test,y_test))\n",
    "print(roc_auc_score(y_test,pred))"
   ]
  },
  {
   "cell_type": "code",
   "execution_count": 278,
   "metadata": {},
   "outputs": [],
   "source": [
    "def preprocess(df):\n",
    "    df[\"L/R Handed Batsman\"].replace(\"na\",np.nan,inplace=True)\n",
    "    df[\"L/R Handed Batsman\"].replace(\"*\",np.nan,inplace=True)\n",
    "    df[\"L/R Handed Batsman\"].value_counts(dropna=\"False\")\n",
    "    df[\"L/R Handed Batsman\"].fillna(method=\"bfill\",inplace=True)\n",
    "    df[\"L/R Handed Batsman\"].value_counts(dropna=\"False\")\n",
    "    df[\"L/R Handed Batsman\"]=df[\"L/R Handed Batsman\"].astype(\"int64\")\n",
    "    df[\"Batting Avg.\"].value_counts(dropna=False)\n",
    "    df[\"Batting Avg.\"].replace(\"na\",\"0\",inplace=True)\n",
    "    df[\"Batting Avg.\"].value_counts(dropna=False)\n",
    "    df[\"Batting Avg.\"]=df[\"Batting Avg.\"].astype(\"int64\")\n",
    "    df[\"Region\"]=df[\"Region\"].apply(convert)\n",
    "    cols=list(df.columns)\n",
    "    for i in cols:\n",
    "        df[i].replace(-3,0,inplace=True)\n",
    "        df[i].replace(-1,0,inplace=True)\n",
    "    df=pd.concat([df,pd.get_dummies(df[\"Region\"],drop_first=True,prefix_sep=\"-\")],axis=1)\n",
    "    df.drop(\"Region\",axis=1,inplace=True)\n",
    "\n",
    "    return df"
   ]
  },
  {
   "cell_type": "code",
   "execution_count": 279,
   "metadata": {},
   "outputs": [],
   "source": [
    "dft=pd.read_csv(\"Test_data_player.csv\",index_col=0)"
   ]
  },
  {
   "cell_type": "code",
   "execution_count": 220,
   "metadata": {},
   "outputs": [
    {
     "data": {
      "text/html": [
       "<div>\n",
       "<style scoped>\n",
       "    .dataframe tbody tr th:only-of-type {\n",
       "        vertical-align: middle;\n",
       "    }\n",
       "\n",
       "    .dataframe tbody tr th {\n",
       "        vertical-align: top;\n",
       "    }\n",
       "\n",
       "    .dataframe thead th {\n",
       "        text-align: right;\n",
       "    }\n",
       "</style>\n",
       "<table border=\"1\" class=\"dataframe\">\n",
       "  <thead>\n",
       "    <tr style=\"text-align: right;\">\n",
       "      <th></th>\n",
       "      <th>Batting Avg.</th>\n",
       "      <th>Strike rate</th>\n",
       "      <th>L/R Handed Batsman</th>\n",
       "      <th>Wicket keeping</th>\n",
       "      <th>economy</th>\n",
       "      <th>avg speed</th>\n",
       "      <th>fitness index</th>\n",
       "      <th>Sixes</th>\n",
       "      <th>fours</th>\n",
       "      <th>Fast bowling</th>\n",
       "      <th>Leg Spin</th>\n",
       "      <th>Off Spin</th>\n",
       "      <th>against fast bowl</th>\n",
       "      <th>against leg spin</th>\n",
       "      <th>against off spin</th>\n",
       "      <th>Fanbase</th>\n",
       "      <th>Catch percentage</th>\n",
       "      <th>Region</th>\n",
       "    </tr>\n",
       "    <tr>\n",
       "      <th>player ID</th>\n",
       "      <th></th>\n",
       "      <th></th>\n",
       "      <th></th>\n",
       "      <th></th>\n",
       "      <th></th>\n",
       "      <th></th>\n",
       "      <th></th>\n",
       "      <th></th>\n",
       "      <th></th>\n",
       "      <th></th>\n",
       "      <th></th>\n",
       "      <th></th>\n",
       "      <th></th>\n",
       "      <th></th>\n",
       "      <th></th>\n",
       "      <th></th>\n",
       "      <th></th>\n",
       "      <th></th>\n",
       "    </tr>\n",
       "  </thead>\n",
       "  <tbody>\n",
       "    <tr>\n",
       "      <th>943412</th>\n",
       "      <td>0</td>\n",
       "      <td>5</td>\n",
       "      <td>1</td>\n",
       "      <td>5</td>\n",
       "      <td>3</td>\n",
       "      <td>8</td>\n",
       "      <td>10</td>\n",
       "      <td>8</td>\n",
       "      <td>5</td>\n",
       "      <td>8</td>\n",
       "      <td>8</td>\n",
       "      <td>4</td>\n",
       "      <td>10</td>\n",
       "      <td>10</td>\n",
       "      <td>9</td>\n",
       "      <td>10</td>\n",
       "      <td>6</td>\n",
       "      <td>RGB6</td>\n",
       "    </tr>\n",
       "    <tr>\n",
       "      <th>891010</th>\n",
       "      <td>0</td>\n",
       "      <td>5</td>\n",
       "      <td>1</td>\n",
       "      <td>5</td>\n",
       "      <td>5</td>\n",
       "      <td>6</td>\n",
       "      <td>5</td>\n",
       "      <td>5</td>\n",
       "      <td>5</td>\n",
       "      <td>5</td>\n",
       "      <td>6</td>\n",
       "      <td>5</td>\n",
       "      <td>4</td>\n",
       "      <td>6</td>\n",
       "      <td>6</td>\n",
       "      <td>5</td>\n",
       "      <td>5</td>\n",
       "      <td>RGB10</td>\n",
       "    </tr>\n",
       "    <tr>\n",
       "      <th>232982</th>\n",
       "      <td>2</td>\n",
       "      <td>3</td>\n",
       "      <td>1</td>\n",
       "      <td>8</td>\n",
       "      <td>6</td>\n",
       "      <td>8</td>\n",
       "      <td>6</td>\n",
       "      <td>4</td>\n",
       "      <td>5</td>\n",
       "      <td>3</td>\n",
       "      <td>5</td>\n",
       "      <td>8</td>\n",
       "      <td>7</td>\n",
       "      <td>4</td>\n",
       "      <td>7</td>\n",
       "      <td>9</td>\n",
       "      <td>5</td>\n",
       "      <td>RGB7</td>\n",
       "    </tr>\n",
       "    <tr>\n",
       "      <th>762647</th>\n",
       "      <td>3</td>\n",
       "      <td>4</td>\n",
       "      <td>1</td>\n",
       "      <td>8</td>\n",
       "      <td>6</td>\n",
       "      <td>8</td>\n",
       "      <td>8</td>\n",
       "      <td>7</td>\n",
       "      <td>6</td>\n",
       "      <td>6</td>\n",
       "      <td>6</td>\n",
       "      <td>7</td>\n",
       "      <td>7</td>\n",
       "      <td>8</td>\n",
       "      <td>7</td>\n",
       "      <td>7</td>\n",
       "      <td>7</td>\n",
       "      <td>RGB6</td>\n",
       "    </tr>\n",
       "    <tr>\n",
       "      <th>882052</th>\n",
       "      <td>6</td>\n",
       "      <td>4</td>\n",
       "      <td>2</td>\n",
       "      <td>9</td>\n",
       "      <td>6</td>\n",
       "      <td>7</td>\n",
       "      <td>7</td>\n",
       "      <td>9</td>\n",
       "      <td>4</td>\n",
       "      <td>3</td>\n",
       "      <td>7</td>\n",
       "      <td>8</td>\n",
       "      <td>10</td>\n",
       "      <td>9</td>\n",
       "      <td>7</td>\n",
       "      <td>8</td>\n",
       "      <td>6</td>\n",
       "      <td>RGB3</td>\n",
       "    </tr>\n",
       "  </tbody>\n",
       "</table>\n",
       "</div>"
      ],
      "text/plain": [
       "           Batting Avg.  Strike rate L/R Handed Batsman  Wicket keeping  \\\n",
       "player ID                                                                 \n",
       "943412                0            5                  1               5   \n",
       "891010                0            5                  1               5   \n",
       "232982                2            3                  1               8   \n",
       "762647                3            4                  1               8   \n",
       "882052                6            4                  2               9   \n",
       "\n",
       "           economy  avg speed  fitness index  Sixes  fours  Fast bowling  \\\n",
       "player ID                                                                  \n",
       "943412           3          8             10      8      5             8   \n",
       "891010           5          6              5      5      5             5   \n",
       "232982           6          8              6      4      5             3   \n",
       "762647           6          8              8      7      6             6   \n",
       "882052           6          7              7      9      4             3   \n",
       "\n",
       "           Leg Spin  Off Spin  against fast bowl  against leg spin  \\\n",
       "player ID                                                            \n",
       "943412            8         4                 10                10   \n",
       "891010            6         5                  4                 6   \n",
       "232982            5         8                  7                 4   \n",
       "762647            6         7                  7                 8   \n",
       "882052            7         8                 10                 9   \n",
       "\n",
       "           against off spin  Fanbase  Catch percentage Region  \n",
       "player ID                                                      \n",
       "943412                    9       10                 6   RGB6  \n",
       "891010                    6        5                 5  RGB10  \n",
       "232982                    7        9                 5   RGB7  \n",
       "762647                    7        7                 7   RGB6  \n",
       "882052                    7        8                 6   RGB3  "
      ]
     },
     "execution_count": 220,
     "metadata": {},
     "output_type": "execute_result"
    }
   ],
   "source": [
    "dft.head()"
   ]
  },
  {
   "cell_type": "code",
   "execution_count": 280,
   "metadata": {},
   "outputs": [],
   "source": [
    "dft=preprocess(dft)"
   ]
  },
  {
   "cell_type": "code",
   "execution_count": 222,
   "metadata": {},
   "outputs": [],
   "source": [
    "pred=xgb.predict(dft)"
   ]
  },
  {
   "cell_type": "code",
   "execution_count": 223,
   "metadata": {},
   "outputs": [
    {
     "data": {
      "text/plain": [
       "array([0, 0, 0, 0, 0, 1, 0, 0, 0, 0, 0, 0, 0, 0, 0, 1, 0, 0, 0, 0, 0, 0,\n",
       "       0, 0, 0, 0, 0, 0, 0, 0, 0, 0, 0, 0, 0, 0, 0, 0, 0, 0, 0, 0, 0, 0,\n",
       "       0, 0, 0, 0, 0, 0], dtype=int64)"
      ]
     },
     "execution_count": 223,
     "metadata": {},
     "output_type": "execute_result"
    }
   ],
   "source": [
    "pred"
   ]
  },
  {
   "cell_type": "code",
   "execution_count": 224,
   "metadata": {},
   "outputs": [],
   "source": [
    "from sklearn.ensemble import RandomForestClassifier\n",
    "from sklearn.tree import DecisionTreeClassifier"
   ]
  },
  {
   "cell_type": "markdown",
   "metadata": {},
   "source": [
    "## Best Model is the Decision Tree as it has the highest recall value for 1"
   ]
  },
  {
   "cell_type": "code",
   "execution_count": 277,
   "metadata": {},
   "outputs": [
    {
     "name": "stdout",
     "output_type": "stream",
     "text": [
      "              precision    recall  f1-score   support\n",
      "\n",
      "           0       0.83      1.00      0.91        54\n",
      "           1       0.00      0.00      0.00        11\n",
      "\n",
      "    accuracy                           0.83        65\n",
      "   macro avg       0.42      0.50      0.45        65\n",
      "weighted avg       0.69      0.83      0.75        65\n",
      "\n",
      "[[54  0]\n",
      " [11  0]]\n",
      "0.16923076923076924\n",
      "0.5\n",
      "              precision    recall  f1-score   support\n",
      "\n",
      "           0       0.88      0.81      0.85        54\n",
      "           1       0.33      0.45      0.38        11\n",
      "\n",
      "    accuracy                           0.75        65\n",
      "   macro avg       0.61      0.63      0.62        65\n",
      "weighted avg       0.79      0.75      0.77        65\n",
      "\n",
      "[[44 10]\n",
      " [ 6  5]]\n",
      "0.24615384615384617\n",
      "0.6346801346801347\n"
     ]
    },
    {
     "name": "stderr",
     "output_type": "stream",
     "text": [
      "C:\\Users\\soory\\.conda\\envs\\tensorflow\\lib\\site-packages\\sklearn\\metrics\\_classification.py:1221: UndefinedMetricWarning: Precision and F-score are ill-defined and being set to 0.0 in labels with no predicted samples. Use `zero_division` parameter to control this behavior.\n",
      "  _warn_prf(average, modifier, msg_start, len(result))\n"
     ]
    }
   ],
   "source": [
    "rf=RandomForestClassifier()\n",
    "rf.fit(X_train,y_train)\n",
    "pred=rf.predict(X_test)\n",
    "print(classification_report(y_test,pred))\n",
    "print(confusion_matrix(y_test,pred))\n",
    "rf.score(X_test,y_test)\n",
    "print(mean_absolute_error(y_test,pred))\n",
    "print(roc_auc_score(y_test,pred))\n",
    "\n",
    "dt=DecisionTreeClassifier()\n",
    "dt.fit(X_train,y_train)\n",
    "pred=dt.predict(X_test)\n",
    "print(classification_report(y_test,pred))\n",
    "print(confusion_matrix(y_test,pred))\n",
    "dt.score(X_test,y_test)\n",
    "print(mean_absolute_error(y_test,pred))\n",
    "print(roc_auc_score(y_test,pred))"
   ]
  },
  {
   "cell_type": "code",
   "execution_count": 281,
   "metadata": {},
   "outputs": [],
   "source": [
    "pred=dt.predict(dft)"
   ]
  },
  {
   "cell_type": "code",
   "execution_count": 282,
   "metadata": {},
   "outputs": [
    {
     "data": {
      "text/plain": [
       "array([0, 0, 0, 0, 0, 0, 1, 0, 1, 0, 1, 0, 0, 0, 0, 0, 0, 0, 0, 1, 1, 0,\n",
       "       0, 0, 0, 0, 0, 0, 0, 0, 1, 0, 0, 0, 0, 1, 1, 0, 1, 0, 0, 0, 0, 1,\n",
       "       0, 0, 0, 0, 0, 0], dtype=int64)"
      ]
     },
     "execution_count": 282,
     "metadata": {},
     "output_type": "execute_result"
    }
   ],
   "source": [
    "pred"
   ]
  },
  {
   "cell_type": "code",
   "execution_count": 283,
   "metadata": {},
   "outputs": [],
   "source": [
    "output = pd.DataFrame({'player ID':dft_sub['player ID'],'Not selected':pred})\n",
    "output.to_csv('dt.csv',index = False)"
   ]
  }
 ],
 "metadata": {
  "kernelspec": {
   "display_name": "Python 3",
   "language": "python",
   "name": "python3"
  },
  "language_info": {
   "codemirror_mode": {
    "name": "ipython",
    "version": 3
   },
   "file_extension": ".py",
   "mimetype": "text/x-python",
   "name": "python",
   "nbconvert_exporter": "python",
   "pygments_lexer": "ipython3",
   "version": "3.8.3"
  }
 },
 "nbformat": 4,
 "nbformat_minor": 4
}
