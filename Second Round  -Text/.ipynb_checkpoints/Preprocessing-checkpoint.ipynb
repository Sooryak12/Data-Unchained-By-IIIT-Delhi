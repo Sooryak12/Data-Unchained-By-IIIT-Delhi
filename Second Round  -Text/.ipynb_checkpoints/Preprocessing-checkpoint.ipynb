{
 "cells": [
  {
   "cell_type": "code",
   "execution_count": 348,
   "metadata": {},
   "outputs": [],
   "source": [
    "import pandas as pd\n",
    "import numpy as np\n",
    "import matplotlib.pyplot as plt\n",
    "import seaborn as sns\n",
    "from sklearn.model_selection import train_test_split\n",
    "from sklearn.linear_model import LogisticRegression,Lasso\n",
    "from sklearn.tree import DecisionTreeClassifier\n",
    "from sklearn.ensemble import RandomForestClassifier\n",
    "from sklearn.svm import SVC\n",
    "from sklearn.neighbors import KNeighborsClassifier\n",
    "from sklearn.metrics import ConfusionMatrixDisplay,confusion_matrix,classification_report,roc_auc_score,accuracy_score,log_loss\n",
    "import re"
   ]
  },
  {
   "cell_type": "code",
   "execution_count": 349,
   "metadata": {},
   "outputs": [],
   "source": [
    "#!pip install nlppreprocess"
   ]
  },
  {
   "cell_type": "code",
   "execution_count": 350,
   "metadata": {},
   "outputs": [],
   "source": [
    "#!pip install nltk"
   ]
  },
  {
   "cell_type": "code",
   "execution_count": 351,
   "metadata": {},
   "outputs": [],
   "source": [
    "df=pd.read_csv(\"train.csv\")"
   ]
  },
  {
   "cell_type": "code",
   "execution_count": 352,
   "metadata": {},
   "outputs": [
    {
     "data": {
      "text/plain": [
       "\"@avataraang awww ) where'd you get that? hugh is so thin. no traces of being wolverine yet. btw, who's that other guy besides RDJ?\""
      ]
     },
     "execution_count": 352,
     "metadata": {},
     "output_type": "execute_result"
    }
   ],
   "source": [
    "df.loc[0,\"content\"]"
   ]
  },
  {
   "cell_type": "code",
   "execution_count": 353,
   "metadata": {},
   "outputs": [
    {
     "data": {
      "text/plain": [
       "content    http://tinyurl.com/nqudrt - Hurt my finger at ...\n",
       "type                                                 sadness\n",
       "Name: 70, dtype: object"
      ]
     },
     "execution_count": 353,
     "metadata": {},
     "output_type": "execute_result"
    }
   ],
   "source": [
    "df.loc[70,[\"content\",\"type\"]]"
   ]
  },
  {
   "cell_type": "code",
   "execution_count": 354,
   "metadata": {},
   "outputs": [
    {
     "data": {
      "text/plain": [
       "23"
      ]
     },
     "execution_count": 354,
     "metadata": {},
     "output_type": "execute_result"
    }
   ],
   "source": [
    "len(df.loc[8,\"content\"].split())"
   ]
  },
  {
   "cell_type": "code",
   "execution_count": 355,
   "metadata": {},
   "outputs": [
    {
     "data": {
      "text/plain": [
       "'\\nlowercase\\nRemove Links\\nRemove symbols\\n\\n'"
      ]
     },
     "execution_count": 355,
     "metadata": {},
     "output_type": "execute_result"
    }
   ],
   "source": [
    "\"\"\"\n",
    "lowercase\n",
    "Remove Links\n",
    "Remove symbols\n",
    "\n",
    "\"\"\""
   ]
  },
  {
   "cell_type": "code",
   "execution_count": 356,
   "metadata": {},
   "outputs": [],
   "source": [
    "def preprocess_text(sen):\n",
    "    \n",
    "  #Removing mentions\n",
    "    sentence=' '.join(word for word in sen.split(' ') if not word.startswith('@')) \n",
    "    sentence=' '.join(word for word in sentence.split(' ') if not word.startswith('http')) \n",
    "    sentence=' '.join(word for word in sentence.split(' ') if not word.startswith('https')) \n",
    "            \n",
    "  # Removing html tags\n",
    "    sentence = remove_tags(sentence)\n",
    "\n",
    "    # Remove punctuations and numbers\n",
    "    sentence = re.sub('[^a-zA-Z]', ' ', sentence)\n",
    "\n",
    "    # Single character removal\n",
    "   \n",
    "    sentence = re.sub(r\"\\s+[a-zA-Z]\\s+\", ' ', sentence)\n",
    "    \n",
    "    # Removing multiple spaces\n",
    "    sentence = re.sub(r'\\s+', ' ', sentence)   \n",
    "    return sentence\n",
    "\n",
    "def decontracted(phrase):\n",
    "    # specific\n",
    "    phrase = re.sub(r\"won\\'t\", \"will not\", phrase)\n",
    "    phrase = re.sub(r\"can\\'t\", \"can not\", phrase)\n",
    "\n",
    "    # general\n",
    "    phrase = re.sub(r\"n\\'t\", \" not\", phrase)\n",
    "    phrase = re.sub(r\"\\'re\", \" are\", phrase)\n",
    "    phrase = re.sub(r\"\\'s\", \" is\", phrase)\n",
    "    phrase = re.sub(r\"\\'d\", \" would\", phrase)\n",
    "    phrase = re.sub(r\"\\'ll\", \" will\", phrase)\n",
    "    phrase = re.sub(r\"\\'t\", \" not\", phrase)\n",
    "    phrase = re.sub(r\"\\'ve\", \" have\", phrase)\n",
    "    phrase = re.sub(r\"\\'m\", \" am\", phrase)\n",
    "    return phrase\n",
    "\n",
    "\n",
    "def remove_tags(text):\n",
    "    \n",
    "    TAG_RE = re.compile(r'<[^>]+>')\n",
    "    return TAG_RE.sub('', text)\n"
   ]
  },
  {
   "cell_type": "code",
   "execution_count": 357,
   "metadata": {},
   "outputs": [],
   "source": [
    "df[\"content\"]=df[\"content\"].str.lower()"
   ]
  },
  {
   "cell_type": "code",
   "execution_count": 358,
   "metadata": {},
   "outputs": [
    {
     "data": {
      "text/plain": [
       "\"just cos i dont have an ipod touch yet - doesn't mean i can't look at some apps! they're sooo cool.  twittering in school? awesome!\""
      ]
     },
     "execution_count": 358,
     "metadata": {},
     "output_type": "execute_result"
    }
   ],
   "source": [
    "df.loc[10,\"content\"]   "
   ]
  },
  {
   "cell_type": "code",
   "execution_count": 359,
   "metadata": {},
   "outputs": [],
   "source": [
    "df[\"content\"]=df[\"content\"].apply(decontracted)"
   ]
  },
  {
   "cell_type": "code",
   "execution_count": 360,
   "metadata": {},
   "outputs": [
    {
     "data": {
      "text/plain": [
       "'@avataraang awww ) where would you get that? hugh is so thin. no traces of being wolverine yet. btw, who is that other guy besides rdj?'"
      ]
     },
     "execution_count": 360,
     "metadata": {},
     "output_type": "execute_result"
    }
   ],
   "source": [
    "df.loc[0,\"content\"]"
   ]
  },
  {
   "cell_type": "code",
   "execution_count": 361,
   "metadata": {},
   "outputs": [],
   "source": [
    "df[\"content\"]=df[\"content\"].apply(preprocess_text)"
   ]
  },
  {
   "cell_type": "code",
   "execution_count": 362,
   "metadata": {},
   "outputs": [
    {
     "data": {
      "text/plain": [
       "content    test discovery just missed being in py \n",
       "type                                      surprise\n",
       "Name: 50, dtype: object"
      ]
     },
     "execution_count": 362,
     "metadata": {},
     "output_type": "execute_result"
    }
   ],
   "source": [
    "df.loc[50,[\"content\",\"type\"]]"
   ]
  },
  {
   "cell_type": "code",
   "execution_count": 363,
   "metadata": {},
   "outputs": [],
   "source": [
    "from nlppreprocess import NLP\n",
    "nlp=NLP\n",
    "obj=NLP(remove_stopwords=True,remove_numbers=True,lemmatize=False)   # Removes Unnecesary stopwords .\n",
    "df[\"content\"]=df[\"content\"].apply(obj.process)"
   ]
  },
  {
   "cell_type": "code",
   "execution_count": 364,
   "metadata": {},
   "outputs": [
    {
     "data": {
      "text/plain": [
       "'awww where would you get hugh thin no traces being wolverine yet btw guy besides rdj'"
      ]
     },
     "execution_count": 364,
     "metadata": {},
     "output_type": "execute_result"
    }
   ],
   "source": [
    "df.loc[0,\"content\"]"
   ]
  },
  {
   "cell_type": "code",
   "execution_count": 365,
   "metadata": {},
   "outputs": [],
   "source": [
    "df[\"content-length\"]=df[\"content\"].apply(lambda x :len(x.split()))    "
   ]
  },
  {
   "cell_type": "code",
   "execution_count": 366,
   "metadata": {},
   "outputs": [
    {
     "name": "stderr",
     "output_type": "stream",
     "text": [
      "C:\\Users\\soory\\.conda\\envs\\tensorflow\\lib\\site-packages\\seaborn\\_decorators.py:43: FutureWarning: Pass the following variable as a keyword arg: x. From version 0.12, the only valid positional argument will be `data`, and passing other arguments without an explicit keyword will result in an error or misinterpretation.\n",
      "  FutureWarning\n"
     ]
    },
    {
     "data": {
      "image/png": "[encoded data removed]",
      "text/plain": [
       "<Figure size 576x576 with 1 Axes>"
      ]
     },
     "metadata": {
      "needs_background": "light"
     },
     "output_type": "display_data"
    }
   ],
   "source": [
    "plt.figure(figsize=(8,8))\n",
    "sns.countplot(df[\"content-length\"])\n",
    "plt.show()                                               ## There are no outliers in terms of no.of words.lies between(0-25)"
   ]
  },
  {
   "cell_type": "code",
   "execution_count": 367,
   "metadata": {},
   "outputs": [],
   "source": [
    "from sklearn.preprocessing import LabelEncoder\n",
    "le=LabelEncoder()\n",
    "le.fit(df[\"type\"].unique())\n",
    "df[\"typelabel\"]=le.transform(df[\"type\"])"
   ]
  },
  {
   "cell_type": "code",
   "execution_count": 368,
   "metadata": {},
   "outputs": [
    {
     "data": {
      "text/html": [
       "<div>\n",
       "<style scoped>\n",
       "    .dataframe tbody tr th:only-of-type {\n",
       "        vertical-align: middle;\n",
       "    }\n",
       "\n",
       "    .dataframe tbody tr th {\n",
       "        vertical-align: top;\n",
       "    }\n",
       "\n",
       "    .dataframe thead th {\n",
       "        text-align: right;\n",
       "    }\n",
       "</style>\n",
       "<table border=\"1\" class=\"dataframe\">\n",
       "  <thead>\n",
       "    <tr style=\"text-align: right;\">\n",
       "      <th></th>\n",
       "      <th>id</th>\n",
       "      <th>content</th>\n",
       "      <th>type</th>\n",
       "      <th>content-length</th>\n",
       "      <th>typelabel</th>\n",
       "    </tr>\n",
       "  </thead>\n",
       "  <tbody>\n",
       "    <tr>\n",
       "      <th>0</th>\n",
       "      <td>1694628490</td>\n",
       "      <td>awww where would you get hugh thin no traces b...</td>\n",
       "      <td>surprise</td>\n",
       "      <td>16</td>\n",
       "      <td>11</td>\n",
       "    </tr>\n",
       "    <tr>\n",
       "      <th>1</th>\n",
       "      <td>1751142947</td>\n",
       "      <td>their no such thing transparency only selectiv...</td>\n",
       "      <td>enthusiasm</td>\n",
       "      <td>8</td>\n",
       "      <td>3</td>\n",
       "    </tr>\n",
       "    <tr>\n",
       "      <th>2</th>\n",
       "      <td>1695004607</td>\n",
       "      <td>would not cost quite bit mean flying pizza fro...</td>\n",
       "      <td>fun</td>\n",
       "      <td>15</td>\n",
       "      <td>4</td>\n",
       "    </tr>\n",
       "    <tr>\n",
       "      <th>3</th>\n",
       "      <td>1752918270</td>\n",
       "      <td>eminem new song quot beautiful quot amazing li...</td>\n",
       "      <td>surprise</td>\n",
       "      <td>11</td>\n",
       "      <td>11</td>\n",
       "    </tr>\n",
       "    <tr>\n",
       "      <th>4</th>\n",
       "      <td>1751176554</td>\n",
       "      <td>yeah never seen but guess never really needed</td>\n",
       "      <td>surprise</td>\n",
       "      <td>8</td>\n",
       "      <td>11</td>\n",
       "    </tr>\n",
       "  </tbody>\n",
       "</table>\n",
       "</div>"
      ],
      "text/plain": [
       "           id                                            content        type  \\\n",
       "0  1694628490  awww where would you get hugh thin no traces b...    surprise   \n",
       "1  1751142947  their no such thing transparency only selectiv...  enthusiasm   \n",
       "2  1695004607  would not cost quite bit mean flying pizza fro...         fun   \n",
       "3  1752918270  eminem new song quot beautiful quot amazing li...    surprise   \n",
       "4  1751176554      yeah never seen but guess never really needed    surprise   \n",
       "\n",
       "   content-length  typelabel  \n",
       "0              16         11  \n",
       "1               8          3  \n",
       "2              15          4  \n",
       "3              11         11  \n",
       "4               8         11  "
      ]
     },
     "execution_count": 368,
     "metadata": {},
     "output_type": "execute_result"
    }
   ],
   "source": [
    "df.head()"
   ]
  },
  {
   "cell_type": "code",
   "execution_count": 369,
   "metadata": {},
   "outputs": [
    {
     "name": "stdout",
     "output_type": "stream",
     "text": [
      "{'anger': 0, 'boredom': 1, 'empty': 2, 'enthusiasm': 3, 'fun': 4, 'happiness': 5, 'hate': 6, 'love': 7, 'neutral': 8, 'relief': 9, 'sadness': 10, 'surprise': 11, 'worry': 12}\n"
     ]
    },
    {
     "data": {
      "text/plain": [
       "{'Tom': 0, 'Nick': 1, 'Kate': 2}"
      ]
     },
     "execution_count": 369,
     "metadata": {},
     "output_type": "execute_result"
    }
   ],
   "source": [
    "le_name_mapping = dict(zip(le.classes_, le.transform(le.classes_)))\n",
    "print(le_name_mapping)"
   ]
  },
  {
   "cell_type": "code",
   "execution_count": 326,
   "metadata": {},
   "outputs": [
    {
     "data": {
      "text/plain": [
       "8     6484\n",
       "12    6398\n",
       "5     3896\n",
       "10    3874\n",
       "7     2876\n",
       "11    1656\n",
       "4     1332\n",
       "9     1118\n",
       "6      975\n",
       "2      633\n",
       "3      542\n",
       "1      132\n",
       "0       84\n",
       "Name: typelabel, dtype: int64"
      ]
     },
     "execution_count": 326,
     "metadata": {},
     "output_type": "execute_result"
    }
   ],
   "source": [
    "df[\"typelabel\"].value_counts()"
   ]
  },
  {
   "cell_type": "code",
   "execution_count": 327,
   "metadata": {},
   "outputs": [
    {
     "data": {
      "text/plain": [
       "content    hear you time earlier than am just mean\n",
       "type                                         empty\n",
       "Name: 56, dtype: object"
      ]
     },
     "execution_count": 327,
     "metadata": {},
     "output_type": "execute_result"
    }
   ],
   "source": [
    "df.loc[56,[\"content\",\"type\"]]"
   ]
  },
  {
   "cell_type": "code",
   "execution_count": 328,
   "metadata": {},
   "outputs": [
    {
     "data": {
      "text/plain": [
       "'hear you time earlier than am just mean'"
      ]
     },
     "execution_count": 328,
     "metadata": {},
     "output_type": "execute_result"
    }
   ],
   "source": [
    "df.loc[56,\"content\"]"
   ]
  },
  {
   "cell_type": "code",
   "execution_count": 329,
   "metadata": {},
   "outputs": [
    {
     "data": {
      "text/plain": [
       "'after show our house rocked saying goodbye soon'"
      ]
     },
     "execution_count": 329,
     "metadata": {},
     "output_type": "execute_result"
    }
   ],
   "source": [
    "df.loc[1654,\"content\"]"
   ]
  },
  {
   "cell_type": "code",
   "execution_count": 330,
   "metadata": {},
   "outputs": [],
   "source": [
    "from random import randint"
   ]
  },
  {
   "cell_type": "code",
   "execution_count": 331,
   "metadata": {},
   "outputs": [],
   "source": [
    "dfnp=pd.read_csv(\"train.csv\")"
   ]
  },
  {
   "cell_type": "code",
   "execution_count": 332,
   "metadata": {},
   "outputs": [
    {
     "data": {
      "text/plain": [
       "'21144 :sweet my friend kevin joining us but his look girl carrying backpack amp boulder pad;type :neutral;'"
      ]
     },
     "metadata": {},
     "output_type": "display_data"
    },
    {
     "data": {
      "text/plain": [
       "'21144 :@ben_grubb Sweet... my friend Kevin is joining us (but I have his #). Look 4 the girl carrying a backpack &amp; boulder pad.;type :neutral;'"
      ]
     },
     "metadata": {},
     "output_type": "display_data"
    },
    {
     "name": "stdout",
     "output_type": "stream",
     "text": [
      "\n",
      "\n"
     ]
    },
    {
     "data": {
      "text/plain": [
       "'2004 :are you sad;type :sadness;'"
      ]
     },
     "metadata": {},
     "output_type": "display_data"
    },
    {
     "data": {
      "text/plain": [
       "'2004 :@misssammibaby why are you sad?;type :sadness;'"
      ]
     },
     "metadata": {},
     "output_type": "display_data"
    },
    {
     "name": "stdout",
     "output_type": "stream",
     "text": [
      "\n",
      "\n"
     ]
    },
    {
     "data": {
      "text/plain": [
       "'10054 :am hungry and single heading golfing range soon;type :sadness;'"
      ]
     },
     "metadata": {},
     "output_type": "display_data"
    },
    {
     "data": {
      "text/plain": [
       "\"10054 :I'm hungry. And single.  heading to the golfing range soon.;type :sadness;\""
      ]
     },
     "metadata": {},
     "output_type": "display_data"
    },
    {
     "name": "stdout",
     "output_type": "stream",
     "text": [
      "\n",
      "\n"
     ]
    },
    {
     "data": {
      "text/plain": [
       "'23384 :every time hear someone from vancouver makes follow them am hopelessly in love with vancouver;type :love;'"
      ]
     },
     "metadata": {},
     "output_type": "display_data"
    },
    {
     "data": {
      "text/plain": [
       "\"23384 :Every time I hear someone from Vancouver, it makes me follow them. I'm hopelessly in love with #vancouver;type :love;\""
      ]
     },
     "metadata": {},
     "output_type": "display_data"
    },
    {
     "name": "stdout",
     "output_type": "stream",
     "text": [
      "\n",
      "\n"
     ]
    },
    {
     "data": {
      "text/plain": [
       "'9646 :am sure would like everything else pci where sets you free;type :neutral;'"
      ]
     },
     "metadata": {},
     "output_type": "display_data"
    },
    {
     "data": {
      "text/plain": [
       "'9646 :@Shpantzer I am sure it would be like everything else PCI where $ sets you free.;type :neutral;'"
      ]
     },
     "metadata": {},
     "output_type": "display_data"
    },
    {
     "name": "stdout",
     "output_type": "stream",
     "text": [
      "\n",
      "\n"
     ]
    },
    {
     "data": {
      "text/plain": [
       "'8721 :love you love you love you you are most beautiful and sweet girl ever;type :love;'"
      ]
     },
     "metadata": {},
     "output_type": "display_data"
    },
    {
     "data": {
      "text/plain": [
       "\"8721 :@LuluLuz  i love you,i love you,i love you -you're the most beautiful and sweet girl ever.;type :love;\""
      ]
     },
     "metadata": {},
     "output_type": "display_data"
    },
    {
     "name": "stdout",
     "output_type": "stream",
     "text": [
      "\n",
      "\n"
     ]
    },
    {
     "data": {
      "text/plain": [
       "'10036 :about rain just plain cloudy not know which;type :neutral;'"
      ]
     },
     "metadata": {},
     "output_type": "display_data"
    },
    {
     "data": {
      "text/plain": [
       "\"10036 :it's about rain here, or it's just plain cloudy. i don't know which...;type :neutral;\""
      ]
     },
     "metadata": {},
     "output_type": "display_data"
    },
    {
     "name": "stdout",
     "output_type": "stream",
     "text": [
      "\n",
      "\n"
     ]
    },
    {
     "data": {
      "text/plain": [
       "'9649 :bag stole bike;type :neutral;'"
      ]
     },
     "metadata": {},
     "output_type": "display_data"
    },
    {
     "data": {
      "text/plain": [
       "'9649 :Some d-bag stole @Catfairbanks bike;type :neutral;'"
      ]
     },
     "metadata": {},
     "output_type": "display_data"
    },
    {
     "name": "stdout",
     "output_type": "stream",
     "text": [
      "\n",
      "\n"
     ]
    },
    {
     "data": {
      "text/plain": [
       "'152 :what lazy sunday love lazy days;type :love;'"
      ]
     },
     "metadata": {},
     "output_type": "display_data"
    },
    {
     "data": {
      "text/plain": [
       "'152 :what a lazy sunday... I love lazy days...;type :love;'"
      ]
     },
     "metadata": {},
     "output_type": "display_data"
    },
    {
     "name": "stdout",
     "output_type": "stream",
     "text": [
      "\n",
      "\n"
     ]
    },
    {
     "data": {
      "text/plain": [
       "'24621 :oh amazing two too and need third yn;type :love;'"
      ]
     },
     "metadata": {},
     "output_type": "display_data"
    },
    {
     "data": {
      "text/plain": [
       "'24621 :@DemiJonasMexico Oh, amazing  I have two too and I need to have the third (yn);type :love;'"
      ]
     },
     "metadata": {},
     "output_type": "display_data"
    },
    {
     "name": "stdout",
     "output_type": "stream",
     "text": [
      "\n",
      "\n"
     ]
    },
    {
     "data": {
      "text/plain": [
       "'29818 :wassup;type :worry;'"
      ]
     },
     "metadata": {},
     "output_type": "display_data"
    },
    {
     "data": {
      "text/plain": [
       "'29818 :@Julie3160,hey wassup;type :worry;'"
      ]
     },
     "metadata": {},
     "output_type": "display_data"
    },
    {
     "name": "stdout",
     "output_type": "stream",
     "text": [
      "\n",
      "\n"
     ]
    },
    {
     "data": {
      "text/plain": [
       "'21271 :am feeling weak and tired from seating in front pc really need study my ha long quiz;type :worry;'"
      ]
     },
     "metadata": {},
     "output_type": "display_data"
    },
    {
     "data": {
      "text/plain": [
       "\"21271 :I'm feeling so weak and tired from seating down in front of the pc. I really need to study for my HA long quiz.;type :worry;\""
      ]
     },
     "metadata": {},
     "output_type": "display_data"
    },
    {
     "name": "stdout",
     "output_type": "stream",
     "text": [
      "\n",
      "\n"
     ]
    },
    {
     "data": {
      "text/plain": [
       "'7475 :flickr no longer recognize my mail addresses can not log in;type :sadness;'"
      ]
     },
     "metadata": {},
     "output_type": "display_data"
    },
    {
     "data": {
      "text/plain": [
       "\"7475 :Why does flickr no longer recognize my e-mail addresses.  I can't log in.;type :sadness;\""
      ]
     },
     "metadata": {},
     "output_type": "display_data"
    },
    {
     "name": "stdout",
     "output_type": "stream",
     "text": [
      "\n",
      "\n"
     ]
    },
    {
     "data": {
      "text/plain": [
       "'2245 :aww thought you forgot last night hardly my twitter my phone just text in evenings ok;type :sadness;'"
      ]
     },
     "metadata": {},
     "output_type": "display_data"
    },
    {
     "data": {
      "text/plain": [
       "'2245 :@iAlejandro Aww I thought you forgot me last night. I was  I hardly have my twitter on my phone so just text me in the evenings ok?;type :sadness;'"
      ]
     },
     "metadata": {},
     "output_type": "display_data"
    },
    {
     "name": "stdout",
     "output_type": "stream",
     "text": [
      "\n",
      "\n"
     ]
    },
    {
     "data": {
      "text/plain": [
       "'28693 :thanks my assignment im off work today;type :happiness;'"
      ]
     },
     "metadata": {},
     "output_type": "display_data"
    },
    {
     "data": {
      "text/plain": [
       "'28693 :Thanks to my assignment im off to work today!;type :happiness;'"
      ]
     },
     "metadata": {},
     "output_type": "display_data"
    },
    {
     "name": "stdout",
     "output_type": "stream",
     "text": [
      "\n",
      "\n"
     ]
    },
    {
     "data": {
      "text/plain": [
       "'13839 :sat alone whilst jay plays his phone;type :neutral;'"
      ]
     },
     "metadata": {},
     "output_type": "display_data"
    },
    {
     "data": {
      "text/plain": [
       "'13839 :Sat alone whilst jay plays on his phone;type :neutral;'"
      ]
     },
     "metadata": {},
     "output_type": "display_data"
    },
    {
     "name": "stdout",
     "output_type": "stream",
     "text": [
      "\n",
      "\n"
     ]
    },
    {
     "data": {
      "text/plain": [
       "'3831 :finals week not bother im studying;type :empty;'"
      ]
     },
     "metadata": {},
     "output_type": "display_data"
    },
    {
     "data": {
      "text/plain": [
       "'3831 :Finals week dont bother me im studying;type :empty;'"
      ]
     },
     "metadata": {},
     "output_type": "display_data"
    },
    {
     "name": "stdout",
     "output_type": "stream",
     "text": [
      "\n",
      "\n"
     ]
    },
    {
     "data": {
      "text/plain": [
       "'14745 :car broken probably good;type :worry;'"
      ]
     },
     "metadata": {},
     "output_type": "display_data"
    },
    {
     "data": {
      "text/plain": [
       "'14745 :car broken probably for good;type :worry;'"
      ]
     },
     "metadata": {},
     "output_type": "display_data"
    },
    {
     "name": "stdout",
     "output_type": "stream",
     "text": [
      "\n",
      "\n"
     ]
    },
    {
     "data": {
      "text/plain": [
       "'17148 :had rumage around topless in freezer find something eat found suspect pizza;type :empty;'"
      ]
     },
     "metadata": {},
     "output_type": "display_data"
    },
    {
     "data": {
      "text/plain": [
       "'17148 :had to rumage around topless in the freezer to find something to eat, all I found was a suspect pizza;type :empty;'"
      ]
     },
     "metadata": {},
     "output_type": "display_data"
    },
    {
     "name": "stdout",
     "output_type": "stream",
     "text": [
      "\n",
      "\n"
     ]
    },
    {
     "data": {
      "text/plain": [
       "'3587 :from top x then and two desktops more gear come over time course;type :neutral;'"
      ]
     },
     "metadata": {},
     "output_type": "display_data"
    },
    {
     "data": {
      "text/plain": [
       "'3587 :From top down: 2x2924, 1x2610, 3x2500. Then an 1841 and two desktops. More gear to come over time of course.;type :neutral;'"
      ]
     },
     "metadata": {},
     "output_type": "display_data"
    },
    {
     "name": "stdout",
     "output_type": "stream",
     "text": [
      "\n",
      "\n"
     ]
    },
    {
     "data": {
      "text/plain": [
       "'13052 :know pero available na yata eh sa singapore though;type :surprise;'"
      ]
     },
     "metadata": {},
     "output_type": "display_data"
    },
    {
     "data": {
      "text/plain": [
       "'13052 :@deezeen I know, pero available na yata eh. Sa Singapore, though!;type :surprise;'"
      ]
     },
     "metadata": {},
     "output_type": "display_data"
    },
    {
     "name": "stdout",
     "output_type": "stream",
     "text": [
      "\n",
      "\n"
     ]
    },
    {
     "data": {
      "text/plain": [
       "'28783 :going see star trak expecting noting but amazing;type :fun;'"
      ]
     },
     "metadata": {},
     "output_type": "display_data"
    },
    {
     "data": {
      "text/plain": [
       "'28783 :going to see star trak expecting noting but amazing;type :fun;'"
      ]
     },
     "metadata": {},
     "output_type": "display_data"
    },
    {
     "name": "stdout",
     "output_type": "stream",
     "text": [
      "\n",
      "\n"
     ]
    },
    {
     "data": {
      "text/plain": [
       "'28069 :had recommended harney amp sons http www harney com from where order much my tea think;type :fun;'"
      ]
     },
     "metadata": {},
     "output_type": "display_data"
    },
    {
     "data": {
      "text/plain": [
       "'28069 :@LarryTill I had recommended Harney &amp; Sons (http://www.harney.com/) from where I order much of my tea, I think.;type :fun;'"
      ]
     },
     "metadata": {},
     "output_type": "display_data"
    },
    {
     "name": "stdout",
     "output_type": "stream",
     "text": [
      "\n",
      "\n"
     ]
    },
    {
     "data": {
      "text/plain": [
       "'12258 :woke up early morning not happy bout headache dizzy can not breathe yeh im still sick;type :worry;'"
      ]
     },
     "metadata": {},
     "output_type": "display_data"
    },
    {
     "data": {
      "text/plain": [
       "\"12258 :woke up early this morning  not happy bout that, headache, dizzy can't breathe, yeh im still sick;type :worry;\""
      ]
     },
     "metadata": {},
     "output_type": "display_data"
    },
    {
     "name": "stdout",
     "output_type": "stream",
     "text": [
      "\n",
      "\n"
     ]
    },
    {
     "data": {
      "text/plain": [
       "'4684 :course such adorable face;type :happiness;'"
      ]
     },
     "metadata": {},
     "output_type": "display_data"
    },
    {
     "data": {
      "text/plain": [
       "'4684 :@cocotian of course i do.. such an adorable face.;type :happiness;'"
      ]
     },
     "metadata": {},
     "output_type": "display_data"
    },
    {
     "name": "stdout",
     "output_type": "stream",
     "text": [
      "\n",
      "\n"
     ]
    },
    {
     "data": {
      "text/plain": [
       "'11598 :chale ver define quot out quot;type :neutral;'"
      ]
     },
     "metadata": {},
     "output_type": "display_data"
    },
    {
     "data": {
      "text/plain": [
       "'11598 :@robcv chale... a ver define &quot;out&quot;;type :neutral;'"
      ]
     },
     "metadata": {},
     "output_type": "display_data"
    },
    {
     "name": "stdout",
     "output_type": "stream",
     "text": [
      "\n",
      "\n"
     ]
    },
    {
     "data": {
      "text/plain": [
       "'25525 :excited jackie baby shower tomorrow going relax and enjoy weekend monday better not come fast;type :love;'"
      ]
     },
     "metadata": {},
     "output_type": "display_data"
    },
    {
     "data": {
      "text/plain": [
       "\"25525 :excited for Jackie's baby shower tomorrow, going to relax and enjoy the weekend! Monday better not come fast;type :love;\""
      ]
     },
     "metadata": {},
     "output_type": "display_data"
    },
    {
     "name": "stdout",
     "output_type": "stream",
     "text": [
      "\n",
      "\n"
     ]
    },
    {
     "data": {
      "text/plain": [
       "'28314 :thats bad start day;type :worry;'"
      ]
     },
     "metadata": {},
     "output_type": "display_data"
    },
    {
     "data": {
      "text/plain": [
       "'28314 :@stinegirl2 thats a bad start to the day!;type :worry;'"
      ]
     },
     "metadata": {},
     "output_type": "display_data"
    },
    {
     "name": "stdout",
     "output_type": "stream",
     "text": [
      "\n",
      "\n"
     ]
    },
    {
     "data": {
      "text/plain": [
       "'15129 :playing bubblewrap her iphone over and over and over again still beats working;type :fun;'"
      ]
     },
     "metadata": {},
     "output_type": "display_data"
    },
    {
     "data": {
      "text/plain": [
       "'15129 :Is playing bubblewrap on her iPhone. Over and over and over again. Still, beats working...;type :fun;'"
      ]
     },
     "metadata": {},
     "output_type": "display_data"
    },
    {
     "name": "stdout",
     "output_type": "stream",
     "text": [
      "\n",
      "\n"
     ]
    },
    {
     "data": {
      "text/plain": [
       "'15752 :finishing off related lit during plansem break;type :relief;'"
      ]
     },
     "metadata": {},
     "output_type": "display_data"
    },
    {
     "data": {
      "text/plain": [
       "'15752 :is finishing off related lit during PlanSem break  http://plurk.com/p/sw05s;type :relief;'"
      ]
     },
     "metadata": {},
     "output_type": "display_data"
    },
    {
     "name": "stdout",
     "output_type": "stream",
     "text": [
      "\n",
      "\n"
     ]
    }
   ],
   "source": [
    "for i in range(30):\n",
    "    x=randint(0,30000)\n",
    "    display(\"{} :{};type :{};\".format(x,df.loc[x,\"content\"],df.loc[x,\"type\"]))\n",
    "    display(\"{} :{};type :{};\".format(x,dfnp.loc[x,\"content\"],dfnp.loc[x,\"type\"]))\n",
    "    print(\"\\n\")\n",
    "##Checking whether preprocessing is good"
   ]
  },
  {
   "cell_type": "code",
   "execution_count": 333,
   "metadata": {},
   "outputs": [],
   "source": [
    "## Stemming and Lemmatizing can work need to be done"
   ]
  },
  {
   "cell_type": "markdown",
   "metadata": {},
   "source": [
    "### Tried getting leaks from id in the dataset but didnt get any useful insights .Can Skip This Part"
   ]
  },
  {
   "cell_type": "code",
   "execution_count": null,
   "metadata": {},
   "outputs": [],
   "source": [
    "df[\"idnorm\"]=(df[\"id\"]-df[\"id\"].mean())/df[\"id\"].var()\n",
    "df[\"idnorm\"]=df[\"idnorm\"]*10**9\n",
    "df[\"idnorm\"]=df[\"idnorm\"].round(0)\n",
    "df=pd.concat([df,pd.get_dummies(df[\"idnorm\"],prefix=\"idnorm\")],axis=1)  ##Drop First can be done\n",
    "df=pd.concat([df,pd.get_dummies(df[\"type\"],prefix=\"t\",prefix_sep=\"-\")],axis=1)"
   ]
  },
  {
   "cell_type": "code",
   "execution_count": 337,
   "metadata": {},
   "outputs": [],
   "source": [
    "ordinalmapper={'surprise':10, 'enthusiasm':8, 'fun':9, 'love':11, 'sadness':2, 'neutral':6,\n",
    "       'worry':3, 'hate':0, 'happiness':12, 'anger':1, 'empty':5, 'relief':7,\n",
    "       'boredom':4}   "
   ]
  },
  {
   "cell_type": "code",
   "execution_count": 338,
   "metadata": {},
   "outputs": [],
   "source": [
    "ordinaldecoder={10:'surprise', 8:'enthusiasm', 9:'fun', 11:'love', 2:'sadness', 6:'neutral',\n",
    "       3:'worry', 0:'hate', 12:'happiness', 1:'anger', 5:'empty', 7:'relief',\n",
    "       4:'boredom'}"
   ]
  },
  {
   "cell_type": "code",
   "execution_count": 339,
   "metadata": {},
   "outputs": [],
   "source": [
    "#hate,anger,sadness,worry,boredom,empty,neutral,relief,enthusiasm,fun,surprise,love,happiness"
   ]
  },
  {
   "cell_type": "code",
   "execution_count": 340,
   "metadata": {},
   "outputs": [],
   "source": [
    "df[\"o-type\"]=df[\"type\"].map(ordinalmapper)"
   ]
  },
  {
   "cell_type": "code",
   "execution_count": 341,
   "metadata": {},
   "outputs": [
    {
     "data": {
      "text/plain": [
       "6     6484\n",
       "3     6398\n",
       "12    3896\n",
       "2     3874\n",
       "11    2876\n",
       "10    1656\n",
       "9     1332\n",
       "7     1118\n",
       "0      975\n",
       "5      633\n",
       "8      542\n",
       "4      132\n",
       "1       84\n",
       "Name: o-type, dtype: int64"
      ]
     },
     "execution_count": 341,
     "metadata": {},
     "output_type": "execute_result"
    }
   ],
   "source": [
    "df[\"o-type\"].value_counts()"
   ]
  },
  {
   "cell_type": "code",
   "execution_count": 342,
   "metadata": {},
   "outputs": [],
   "source": [
    "df=pd.concat([df,pd.get_dummies(df[\"o-type\"],prefix=\"o\",prefix_sep=\"-\")],axis=1)   "
   ]
  },
  {
   "cell_type": "code",
   "execution_count": null,
   "metadata": {},
   "outputs": [],
   "source": [
    " ## One Hot Encoded labels to check their efficiency compared label Encoding .But didnt do so."
   ]
  },
  {
   "cell_type": "markdown",
   "metadata": {},
   "source": [
    "## Data PreProcessing Over .\n",
    "### You can shift to Round2model.ipynb file for  my competition Model Bert."
   ]
  },
  {
   "cell_type": "code",
   "execution_count": 344,
   "metadata": {},
   "outputs": [
    {
     "data": {
      "text/html": [
       "<div>\n",
       "<style scoped>\n",
       "    .dataframe tbody tr th:only-of-type {\n",
       "        vertical-align: middle;\n",
       "    }\n",
       "\n",
       "    .dataframe tbody tr th {\n",
       "        vertical-align: top;\n",
       "    }\n",
       "\n",
       "    .dataframe thead th {\n",
       "        text-align: right;\n",
       "    }\n",
       "</style>\n",
       "<table border=\"1\" class=\"dataframe\">\n",
       "  <thead>\n",
       "    <tr style=\"text-align: right;\">\n",
       "      <th></th>\n",
       "      <th>id</th>\n",
       "      <th>content</th>\n",
       "      <th>type</th>\n",
       "      <th>content-length</th>\n",
       "      <th>typelabel</th>\n",
       "      <th>idnorm</th>\n",
       "      <th>idnorm_-11.0</th>\n",
       "      <th>idnorm_-10.0</th>\n",
       "      <th>idnorm_-7.0</th>\n",
       "      <th>idnorm_-6.0</th>\n",
       "      <th>...</th>\n",
       "      <th>o-3</th>\n",
       "      <th>o-4</th>\n",
       "      <th>o-5</th>\n",
       "      <th>o-6</th>\n",
       "      <th>o-7</th>\n",
       "      <th>o-8</th>\n",
       "      <th>o-9</th>\n",
       "      <th>o-10</th>\n",
       "      <th>o-11</th>\n",
       "      <th>o-12</th>\n",
       "    </tr>\n",
       "  </thead>\n",
       "  <tbody>\n",
       "    <tr>\n",
       "      <th>0</th>\n",
       "      <td>1694628490</td>\n",
       "      <td>awww where would you get hugh thin no traces b...</td>\n",
       "      <td>surprise</td>\n",
       "      <td>16</td>\n",
       "      <td>11</td>\n",
       "      <td>-11.0</td>\n",
       "      <td>1</td>\n",
       "      <td>0</td>\n",
       "      <td>0</td>\n",
       "      <td>0</td>\n",
       "      <td>...</td>\n",
       "      <td>0</td>\n",
       "      <td>0</td>\n",
       "      <td>0</td>\n",
       "      <td>0</td>\n",
       "      <td>0</td>\n",
       "      <td>0</td>\n",
       "      <td>0</td>\n",
       "      <td>1</td>\n",
       "      <td>0</td>\n",
       "      <td>0</td>\n",
       "    </tr>\n",
       "    <tr>\n",
       "      <th>1</th>\n",
       "      <td>1751142947</td>\n",
       "      <td>their no such thing transparency only selectiv...</td>\n",
       "      <td>enthusiasm</td>\n",
       "      <td>8</td>\n",
       "      <td>3</td>\n",
       "      <td>-7.0</td>\n",
       "      <td>0</td>\n",
       "      <td>0</td>\n",
       "      <td>1</td>\n",
       "      <td>0</td>\n",
       "      <td>...</td>\n",
       "      <td>0</td>\n",
       "      <td>0</td>\n",
       "      <td>0</td>\n",
       "      <td>0</td>\n",
       "      <td>0</td>\n",
       "      <td>1</td>\n",
       "      <td>0</td>\n",
       "      <td>0</td>\n",
       "      <td>0</td>\n",
       "      <td>0</td>\n",
       "    </tr>\n",
       "    <tr>\n",
       "      <th>2</th>\n",
       "      <td>1695004607</td>\n",
       "      <td>would not cost quite bit mean flying pizza fro...</td>\n",
       "      <td>fun</td>\n",
       "      <td>15</td>\n",
       "      <td>4</td>\n",
       "      <td>-11.0</td>\n",
       "      <td>1</td>\n",
       "      <td>0</td>\n",
       "      <td>0</td>\n",
       "      <td>0</td>\n",
       "      <td>...</td>\n",
       "      <td>0</td>\n",
       "      <td>0</td>\n",
       "      <td>0</td>\n",
       "      <td>0</td>\n",
       "      <td>0</td>\n",
       "      <td>0</td>\n",
       "      <td>1</td>\n",
       "      <td>0</td>\n",
       "      <td>0</td>\n",
       "      <td>0</td>\n",
       "    </tr>\n",
       "    <tr>\n",
       "      <th>3</th>\n",
       "      <td>1752918270</td>\n",
       "      <td>eminem new song quot beautiful quot amazing li...</td>\n",
       "      <td>surprise</td>\n",
       "      <td>11</td>\n",
       "      <td>11</td>\n",
       "      <td>-6.0</td>\n",
       "      <td>0</td>\n",
       "      <td>0</td>\n",
       "      <td>0</td>\n",
       "      <td>1</td>\n",
       "      <td>...</td>\n",
       "      <td>0</td>\n",
       "      <td>0</td>\n",
       "      <td>0</td>\n",
       "      <td>0</td>\n",
       "      <td>0</td>\n",
       "      <td>0</td>\n",
       "      <td>0</td>\n",
       "      <td>1</td>\n",
       "      <td>0</td>\n",
       "      <td>0</td>\n",
       "    </tr>\n",
       "    <tr>\n",
       "      <th>4</th>\n",
       "      <td>1751176554</td>\n",
       "      <td>yeah never seen but guess never really needed</td>\n",
       "      <td>surprise</td>\n",
       "      <td>8</td>\n",
       "      <td>11</td>\n",
       "      <td>-7.0</td>\n",
       "      <td>0</td>\n",
       "      <td>0</td>\n",
       "      <td>1</td>\n",
       "      <td>0</td>\n",
       "      <td>...</td>\n",
       "      <td>0</td>\n",
       "      <td>0</td>\n",
       "      <td>0</td>\n",
       "      <td>0</td>\n",
       "      <td>0</td>\n",
       "      <td>0</td>\n",
       "      <td>0</td>\n",
       "      <td>1</td>\n",
       "      <td>0</td>\n",
       "      <td>0</td>\n",
       "    </tr>\n",
       "  </tbody>\n",
       "</table>\n",
       "<p>5 rows × 39 columns</p>\n",
       "</div>"
      ],
      "text/plain": [
       "           id                                            content        type  \\\n",
       "0  1694628490  awww where would you get hugh thin no traces b...    surprise   \n",
       "1  1751142947  their no such thing transparency only selectiv...  enthusiasm   \n",
       "2  1695004607  would not cost quite bit mean flying pizza fro...         fun   \n",
       "3  1752918270  eminem new song quot beautiful quot amazing li...    surprise   \n",
       "4  1751176554      yeah never seen but guess never really needed    surprise   \n",
       "\n",
       "   content-length  typelabel  idnorm  idnorm_-11.0  idnorm_-10.0  idnorm_-7.0  \\\n",
       "0              16         11   -11.0             1             0            0   \n",
       "1               8          3    -7.0             0             0            1   \n",
       "2              15          4   -11.0             1             0            0   \n",
       "3              11         11    -6.0             0             0            0   \n",
       "4               8         11    -7.0             0             0            1   \n",
       "\n",
       "   idnorm_-6.0  ...  o-3  o-4  o-5  o-6  o-7  o-8  o-9  o-10  o-11  o-12  \n",
       "0            0  ...    0    0    0    0    0    0    0     1     0     0  \n",
       "1            0  ...    0    0    0    0    0    1    0     0     0     0  \n",
       "2            0  ...    0    0    0    0    0    0    1     0     0     0  \n",
       "3            1  ...    0    0    0    0    0    0    0     1     0     0  \n",
       "4            0  ...    0    0    0    0    0    0    0     1     0     0  \n",
       "\n",
       "[5 rows x 39 columns]"
      ]
     },
     "execution_count": 344,
     "metadata": {},
     "output_type": "execute_result"
    }
   ],
   "source": [
    "df.head()"
   ]
  },
  {
   "cell_type": "code",
   "execution_count": 345,
   "metadata": {},
   "outputs": [
    {
     "data": {
      "text/plain": [
       "Index(['id', 'content', 'type', 'content-length', 'typelabel', 'idnorm',\n",
       "       'idnorm_-11.0', 'idnorm_-10.0', 'idnorm_-7.0', 'idnorm_-6.0',\n",
       "       'idnorm_8.0', 'idnorm_9.0', 't-anger', 't-boredom', 't-empty',\n",
       "       't-enthusiasm', 't-fun', 't-happiness', 't-hate', 't-love', 't-neutral',\n",
       "       't-relief', 't-sadness', 't-surprise', 't-worry', 'o-type', 'o-0',\n",
       "       'o-1', 'o-2', 'o-3', 'o-4', 'o-5', 'o-6', 'o-7', 'o-8', 'o-9', 'o-10',\n",
       "       'o-11', 'o-12'],\n",
       "      dtype='object')"
      ]
     },
     "execution_count": 345,
     "metadata": {},
     "output_type": "execute_result"
    }
   ],
   "source": [
    "df.columns"
   ]
  },
  {
   "cell_type": "code",
   "execution_count": 346,
   "metadata": {},
   "outputs": [],
   "source": [
    "\n",
    "df.content=df.content.apply(lambda x:'neutral' if type(x)!=str else x)"
   ]
  },
  {
   "cell_type": "code",
   "execution_count": 347,
   "metadata": {},
   "outputs": [],
   "source": [
    "df.to_csv(\"traincleaned-lem.csv\")"
   ]
  },
  {
   "cell_type": "code",
   "execution_count": 62,
   "metadata": {},
   "outputs": [],
   "source": [
    "trainc1=['content', 'idnorm'] #'idnorm_-11.0', 'idnorm_-10.0',\n",
    "       #'idnorm_-7.0', 'idnorm_-6.0', 'idnorm_8.0', 'idnorm_9.0']\n",
    "testc1='o-type'"
   ]
  },
  {
   "cell_type": "code",
   "execution_count": 63,
   "metadata": {},
   "outputs": [],
   "source": [
    "X_train, X_test, y_train, y_test = train_test_split(df[trainc1], df[testc1], test_size=0.33, random_state=42)"
   ]
  },
  {
   "cell_type": "code",
   "execution_count": 65,
   "metadata": {},
   "outputs": [],
   "source": [
    "from sklearn.feature_extraction.text import TfidfVectorizer"
   ]
  },
  {
   "cell_type": "code",
   "execution_count": 102,
   "metadata": {},
   "outputs": [],
   "source": [
    "Tfidf_vect = TfidfVectorizer(max_features=5000)\n",
    "Trained_Tfidf_vect = Tfidf_vect.fit(X_train[\"content\"].values)\n",
    "\n",
    "Train_X_Tfidf = Trained_Tfidf_vect.transform(X_train[\"content\"].values)\n",
    "Test_X_Tfidf = Trained_Tfidf_vect.transform(X_test[\"content\"].values)"
   ]
  },
  {
   "cell_type": "code",
   "execution_count": 79,
   "metadata": {},
   "outputs": [],
   "source": [
    "from sklearn import  svm\n",
    "from sklearn.metrics import accuracy_score,confusion_matrix"
   ]
  },
  {
   "cell_type": "code",
   "execution_count": 106,
   "metadata": {},
   "outputs": [
    {
     "data": {
      "text/plain": [
       "SVC(gamma='auto', kernel='linear')"
      ]
     },
     "execution_count": 106,
     "metadata": {},
     "output_type": "execute_result"
    }
   ],
   "source": [
    "SVM = svm.SVC(C=1.0, kernel='linear', degree=3, gamma='auto')\n",
    "SVM.fit(Train_X_Tfidf, y_train)"
   ]
  },
  {
   "cell_type": "code",
   "execution_count": 107,
   "metadata": {},
   "outputs": [],
   "source": [
    "pred_svm= SVM.predict(Test_X_Tfidf)"
   ]
  },
  {
   "cell_type": "code",
   "execution_count": 108,
   "metadata": {},
   "outputs": [
    {
     "name": "stdout",
     "output_type": "stream",
     "text": [
      "SVM Accuracy Score: 34.97979797979798\n"
     ]
    }
   ],
   "source": [
    "print(\"SVM Accuracy Score:\", accuracy_score(pred_svm, y_test)*100)   ## SVC fitted on Tfidf of preprocessed text"
   ]
  },
  {
   "cell_type": "code",
   "execution_count": 109,
   "metadata": {},
   "outputs": [
    {
     "name": "stdout",
     "output_type": "stream",
     "text": [
      "[[  51    2   28   25    0    3    8    0    0    2    1    3    3]\n",
      " [   0    0    0    0    0    0    0    0    0    0    0    0    0]\n",
      " [  40    2  299  260   11   15  127   24   17   14   45   38   40]\n",
      " [ 143    9  605 1068   26   61  604  104   55   97  174  155  226]\n",
      " [   0    0    0    0    0    0    0    0    0    0    0    0    0]\n",
      " [   0    0    0    0    0    0    0    0    0    0    0    0    0]\n",
      " [  57    7  289  531   14  102 1178  124   77  163  191  230  396]\n",
      " [   1    0    1    3    0    0    5   13    0    0    0    3    6]\n",
      " [   0    0    0    0    0    0    0    0    0    0    0    0    0]\n",
      " [   0    0    2    3    0    0    3    2    0    4    1    5   16]\n",
      " [   0    0    4   13    0    1    9    1    0    1   15    6    7]\n",
      " [   4    2   39   61    2    1   65   21    7   14   27  357  104]\n",
      " [  13    1   44  122    0    8  192   74   13  116   65  201  478]]\n"
     ]
    }
   ],
   "source": [
    "print(confusion_matrix(pred_svm,y_test))"
   ]
  },
  {
   "cell_type": "code",
   "execution_count": null,
   "metadata": {},
   "outputs": [],
   "source": [
    "##ML Models to Try : Naive bayes,XGBoost"
   ]
  },
  {
   "cell_type": "code",
   "execution_count": null,
   "metadata": {},
   "outputs": [],
   "source": [
    "# 10,000 features with SVM Accuracy Score: 35"
   ]
  },
  {
   "cell_type": "code",
   "execution_count": 110,
   "metadata": {},
   "outputs": [
    {
     "data": {
      "text/plain": [
       "SVC(gamma='auto', kernel='linear')"
      ]
     },
     "execution_count": 110,
     "metadata": {},
     "output_type": "execute_result"
    }
   ],
   "source": [
    "#model Trained on full data:\n",
    "Tfidf_vect = TfidfVectorizer(max_features=10000)\n",
    "Trained_Tfidf_vect = Tfidf_vect.fit(df[\"content\"].values)\n",
    "\n",
    "Train_X_Tfidf = Trained_Tfidf_vect.transform(df[\"content\"].values)\n",
    "\n",
    "SVM = svm.SVC(C=1.0, kernel='linear', degree=3, gamma='auto')\n",
    "SVM.fit(Train_X_Tfidf,df[testc1])\n"
   ]
  },
  {
   "cell_type": "code",
   "execution_count": 111,
   "metadata": {},
   "outputs": [],
   "source": [
    "dft=pd.read_csv(\"test.csv\")"
   ]
  },
  {
   "cell_type": "code",
   "execution_count": 112,
   "metadata": {},
   "outputs": [],
   "source": [
    "def textprep(x):\n",
    "    x[\"content\"]=x[\"content\"].str.lower()\n",
    "    x[\"content\"]=x[\"content\"].apply(decontracted)\n",
    "    x[\"content\"]=x[\"content\"].apply(preprocess_text)\n",
    "    from nlppreprocess import NLP\n",
    "    nlp=NLP\n",
    "    obj=NLP(remove_stopwords=True,remove_numbers=True)\n",
    "    x[\"content\"]=x[\"content\"].apply(obj.process)\n",
    "    x[\"idnorm\"]=(x[\"id\"]-x[\"id\"].mean())/x[\"id\"].var()\n",
    "    x[\"idnorm\"]=x[\"idnorm\"]*10**9\n",
    "    x[\"idnorm\"]=x[\"idnorm\"].round(0)\n",
    "    #x=pd.concat([x,pd.get_dummies(x[\"idnorm\"],prefix=\"idnorm\")],axis=1)  ##Drop First can be done\n",
    "    x_Tfidf = Trained_Tfidf_vect.transform(x[\"content\"].values)\n",
    "    pred= SVM.predict(x_Tfidf)\n",
    "    return pred  "
   ]
  },
  {
   "cell_type": "code",
   "execution_count": 113,
   "metadata": {},
   "outputs": [],
   "source": [
    "pred=textprep(dft)"
   ]
  },
  {
   "cell_type": "code",
   "execution_count": 114,
   "metadata": {},
   "outputs": [],
   "source": [
    "#demapper\n",
    "res = [] \n",
    "for i in pred: \n",
    "      \n",
    "    # searching from lookp_dict \n",
    "    res.append(ordinaldecoder.get(i)) "
   ]
  },
  {
   "cell_type": "code",
   "execution_count": 1,
   "metadata": {},
   "outputs": [],
   "source": [
    "#res"
   ]
  },
  {
   "cell_type": "code",
   "execution_count": 116,
   "metadata": {},
   "outputs": [
    {
     "data": {
      "text/plain": [
       "array([3, 6, 3, ..., 3, 6, 2], dtype=int64)"
      ]
     },
     "execution_count": 116,
     "metadata": {},
     "output_type": "execute_result"
    }
   ],
   "source": [
    "pred"
   ]
  },
  {
   "cell_type": "code",
   "execution_count": 117,
   "metadata": {},
   "outputs": [
    {
     "data": {
      "text/plain": [
       "{10: 'surprise',\n",
       " 8: 'enthusiasm',\n",
       " 9: 'fun',\n",
       " 11: 'love',\n",
       " 2: 'sadness',\n",
       " 6: 'neutral',\n",
       " 3: 'worry',\n",
       " 0: 'hate',\n",
       " 12: 'happiness',\n",
       " 1: 'anger',\n",
       " 5: 'empty',\n",
       " 7: 'relief',\n",
       " 4: 'boredom'}"
      ]
     },
     "execution_count": 117,
     "metadata": {},
     "output_type": "execute_result"
    }
   ],
   "source": [
    "ordinaldecoder"
   ]
  },
  {
   "cell_type": "code",
   "execution_count": 118,
   "metadata": {},
   "outputs": [],
   "source": [
    "output = pd.DataFrame({'id':dft['id'],'type':res})\n",
    "output.to_csv('svm-only-tfidf-of-content-preprocessing-fully-trained.csv',index = False)"
   ]
  },
  {
   "cell_type": "markdown",
   "metadata": {},
   "source": [
    "## SVM Model with using Id leaks"
   ]
  },
  {
   "cell_type": "code",
   "execution_count": null,
   "metadata": {},
   "outputs": [],
   "source": [
    "trainc1=['idnorm','idnorm_-11.0', 'idnorm_-10.0',\n",
    "'idnorm_-7.0', 'idnorm_-6.0', 'idnorm_8.0', 'idnorm_9.0']\n",
    "testc1='o-type'"
   ]
  },
  {
   "cell_type": "code",
   "execution_count": 211,
   "metadata": {},
   "outputs": [],
   "source": [
    "Tfidf_vect = TfidfVectorizer(max_features=10000)\n",
    "Trained_Tfidf_vect = Tfidf_vect.fit(df[\"content\"].values)\n",
    "\n",
    "df_Tfidf = Trained_Tfidf_vect.transform(df[\"content\"].values)\n",
    "#Test_X_Tfidf = Trained_Tfidf_vect.transform(X_test[\"content\"].values)"
   ]
  },
  {
   "cell_type": "code",
   "execution_count": 126,
   "metadata": {},
   "outputs": [
    {
     "data": {
      "text/plain": [
       "SVC(gamma='auto', kernel='linear')"
      ]
     },
     "execution_count": 126,
     "metadata": {},
     "output_type": "execute_result"
    }
   ],
   "source": [
    "#SVM = svm.SVC(C=1.0, kernel='linear', degree=3, gamma='auto')\n",
    "#SVM.fit(df_Tfidf,df[\"o-type\"])"
   ]
  },
  {
   "cell_type": "code",
   "execution_count": 212,
   "metadata": {},
   "outputs": [],
   "source": [
    "from scipy.sparse import  hstack"
   ]
  },
  {
   "cell_type": "code",
   "execution_count": 213,
   "metadata": {},
   "outputs": [
    {
     "name": "stdout",
     "output_type": "stream",
     "text": [
      "sample vp column: [[-11.0], [-7.0], [-11.0], [-6.0]]\n",
      "(30000, 1)\n"
     ]
    }
   ],
   "source": [
    "idnormed=[ [idnorm] for idnorm in df.idnorm.values ]\n",
    "print (\"sample vp column:\", idnormed[:4])\n",
    "\n",
    "idnormed= np.array(idnormed)\n",
    "print (idnormed.shape)"
   ]
  },
  {
   "cell_type": "code",
   "execution_count": 214,
   "metadata": {},
   "outputs": [
    {
     "data": {
      "text/plain": [
       "'\\nidnormed_11=[ [i] for i in X_train[\"idnorm_-11.0\"].values ]\\nidnormed_10=[ [i] for i in X_train[\"idnorm_-10.0\"].values ]\\nidnormed_7=[ [i] for i in X_train[\"idnorm_-7.0\"].values ]\\nidnormed_6=[ [i] for i in X_train[\"idnorm_-6.0\"].values ]\\nidnormed_p8=[ [i] for i in X_train[\"idnorm_8.0\"].values ]\\nidnormed_p9=[ [i] for i in X_train[\"idnorm_9.0\"].values ]\\n'"
      ]
     },
     "execution_count": 214,
     "metadata": {},
     "output_type": "execute_result"
    }
   ],
   "source": [
    "\n",
    "idnormed_11=[ [i] for i in X_train[\"idnorm_-11.0\"].values ]\n",
    "idnormed_10=[ [i] for i in X_train[\"idnorm_-10.0\"].values ]\n",
    "idnormed_7=[ [i] for i in X_train[\"idnorm_-7.0\"].values ]\n",
    "idnormed_6=[ [i] for i in X_train[\"idnorm_-6.0\"].values ]\n",
    "idnormed_p8=[ [i] for i in X_train[\"idnorm_8.0\"].values ]\n",
    "idnormed_p9=[ [i] for i in X_train[\"idnorm_9.0\"].values ]\n"
   ]
  },
  {
   "cell_type": "code",
   "execution_count": 215,
   "metadata": {},
   "outputs": [
    {
     "name": "stdout",
     "output_type": "stream",
     "text": [
      "(30000, 10001)\n"
     ]
    }
   ],
   "source": [
    "fulldf_Tfidf = hstack((df_Tfidf,idnormed))#,idnormed_11,idnormed_10,idnormed_7,idnormed_6,idnormed_p8,idnormed_p9))  # adding \"VERIFIED_PURCHASE\" to the Input\n",
    "print (fulldf_Tfidf.shape)"
   ]
  },
  {
   "cell_type": "code",
   "execution_count": 133,
   "metadata": {},
   "outputs": [
    {
     "data": {
      "text/plain": [
       "SVC(gamma='auto', kernel='linear')"
      ]
     },
     "execution_count": 133,
     "metadata": {},
     "output_type": "execute_result"
    }
   ],
   "source": [
    "svmmodel= svm.SVC(C=1.0, kernel='linear', degree=3, gamma='auto')\n",
    "svmmodel.fit(fulldf_Tfidf,df[\"o-type\"])\n"
   ]
  },
  {
   "cell_type": "markdown",
   "metadata": {},
   "source": [
    "## Preprocessing Done here for Test File "
   ]
  },
  {
   "cell_type": "code",
   "execution_count": 134,
   "metadata": {},
   "outputs": [],
   "source": [
    "def textprep(x):\n",
    "    x[\"content\"]=x[\"content\"].str.lower()\n",
    "    x[\"content\"]=x[\"content\"].apply(decontracted)\n",
    "    x[\"content\"]=x[\"content\"].apply(preprocess_text)\n",
    "    from nlppreprocess import NLP\n",
    "    nlp=NLP\n",
    "    obj=NLP(remove_stopwords=True,remove_numbers=True)\n",
    "    x[\"content\"]=x[\"content\"].apply(obj.process)\n",
    "    x[\"idnorm\"]=(x[\"id\"]-x[\"id\"].mean())/x[\"id\"].var()\n",
    "    x[\"idnorm\"]=x[\"idnorm\"]*10**9\n",
    "    x[\"idnorm\"]=x[\"idnorm\"].round(0)\n",
    "    #x=pd.concat([x,pd.get_dummies(x[\"idnorm\"],prefix=\"idnorm\")],axis=1)  ##Drop First can be done\n",
    "    x_Tfidf = Trained_Tfidf_vect.transform(x[\"content\"].values)\n",
    "    idnormed=[ [idnorm] for idnorm in x.idnorm.values ]\n",
    "    xx_Tfidf = hstack((x_Tfidf,idnormed))\n",
    "    svmmodel.predict(xx_Tfidf)\n",
    "    return pred  "
   ]
  },
  {
   "cell_type": "code",
   "execution_count": 135,
   "metadata": {},
   "outputs": [],
   "source": [
    "predwithid=textprep(dft)"
   ]
  },
  {
   "cell_type": "code",
   "execution_count": 136,
   "metadata": {},
   "outputs": [],
   "source": [
    "resf = [] \n",
    "for i in predwithid: \n",
    "      \n",
    "    # searching from lookp_dict \n",
    "    resf.append(ordinaldecoder.get(i)) "
   ]
  },
  {
   "cell_type": "code",
   "execution_count": 137,
   "metadata": {},
   "outputs": [],
   "source": [
    "output = pd.DataFrame({'id':dft['id'],'type':resf})\n",
    "output.to_csv('svm-tfidf-with-idnorm-of-content-preprocessing-fully-trained.csv',index = False)"
   ]
  },
  {
   "cell_type": "code",
   "execution_count": 139,
   "metadata": {},
   "outputs": [
    {
     "data": {
      "text/plain": [
       "Index(['id', 'content', 'type', 'idnorm', 'idnorm_-11.0', 'idnorm_-10.0',\n",
       "       'idnorm_-7.0', 'idnorm_-6.0', 'idnorm_8.0', 'idnorm_9.0', 't-anger',\n",
       "       't-boredom', 't-empty', 't-enthusiasm', 't-fun', 't-happiness',\n",
       "       't-hate', 't-love', 't-neutral', 't-relief', 't-sadness', 't-surprise',\n",
       "       't-worry', 'o-type', 'o-0', 'o-1', 'o-2', 'o-3', 'o-4', 'o-5', 'o-6',\n",
       "       'o-7', 'o-8', 'o-9', 'o-10', 'o-11', 'o-12'],\n",
       "      dtype='object')"
      ]
     },
     "execution_count": 139,
     "metadata": {},
     "output_type": "execute_result"
    }
   ],
   "source": [
    "df.columns"
   ]
  },
  {
   "cell_type": "code",
   "execution_count": 143,
   "metadata": {},
   "outputs": [
    {
     "data": {
      "text/html": [
       "<div>\n",
       "<style scoped>\n",
       "    .dataframe tbody tr th:only-of-type {\n",
       "        vertical-align: middle;\n",
       "    }\n",
       "\n",
       "    .dataframe tbody tr th {\n",
       "        vertical-align: top;\n",
       "    }\n",
       "\n",
       "    .dataframe thead th {\n",
       "        text-align: right;\n",
       "    }\n",
       "</style>\n",
       "<table border=\"1\" class=\"dataframe\">\n",
       "  <thead>\n",
       "    <tr style=\"text-align: right;\">\n",
       "      <th></th>\n",
       "      <th>o-type</th>\n",
       "      <th>type</th>\n",
       "    </tr>\n",
       "  </thead>\n",
       "  <tbody>\n",
       "    <tr>\n",
       "      <th>0</th>\n",
       "      <td>10</td>\n",
       "      <td>surprise</td>\n",
       "    </tr>\n",
       "    <tr>\n",
       "      <th>1</th>\n",
       "      <td>8</td>\n",
       "      <td>enthusiasm</td>\n",
       "    </tr>\n",
       "    <tr>\n",
       "      <th>2</th>\n",
       "      <td>9</td>\n",
       "      <td>fun</td>\n",
       "    </tr>\n",
       "    <tr>\n",
       "      <th>3</th>\n",
       "      <td>10</td>\n",
       "      <td>surprise</td>\n",
       "    </tr>\n",
       "    <tr>\n",
       "      <th>4</th>\n",
       "      <td>10</td>\n",
       "      <td>surprise</td>\n",
       "    </tr>\n",
       "    <tr>\n",
       "      <th>...</th>\n",
       "      <td>...</td>\n",
       "      <td>...</td>\n",
       "    </tr>\n",
       "    <tr>\n",
       "      <th>29995</th>\n",
       "      <td>6</td>\n",
       "      <td>neutral</td>\n",
       "    </tr>\n",
       "    <tr>\n",
       "      <th>29996</th>\n",
       "      <td>6</td>\n",
       "      <td>neutral</td>\n",
       "    </tr>\n",
       "    <tr>\n",
       "      <th>29997</th>\n",
       "      <td>12</td>\n",
       "      <td>happiness</td>\n",
       "    </tr>\n",
       "    <tr>\n",
       "      <th>29998</th>\n",
       "      <td>12</td>\n",
       "      <td>happiness</td>\n",
       "    </tr>\n",
       "    <tr>\n",
       "      <th>29999</th>\n",
       "      <td>3</td>\n",
       "      <td>worry</td>\n",
       "    </tr>\n",
       "  </tbody>\n",
       "</table>\n",
       "<p>30000 rows × 2 columns</p>\n",
       "</div>"
      ],
      "text/plain": [
       "       o-type        type\n",
       "0          10    surprise\n",
       "1           8  enthusiasm\n",
       "2           9         fun\n",
       "3          10    surprise\n",
       "4          10    surprise\n",
       "...       ...         ...\n",
       "29995       6     neutral\n",
       "29996       6     neutral\n",
       "29997      12   happiness\n",
       "29998      12   happiness\n",
       "29999       3       worry\n",
       "\n",
       "[30000 rows x 2 columns]"
      ]
     },
     "execution_count": 143,
     "metadata": {},
     "output_type": "execute_result"
    }
   ],
   "source": [
    "df[[\"o-type\",\"type\"]]"
   ]
  },
  {
   "cell_type": "code",
   "execution_count": 144,
   "metadata": {},
   "outputs": [
    {
     "data": {
      "text/plain": [
       "{10: 'surprise',\n",
       " 8: 'enthusiasm',\n",
       " 9: 'fun',\n",
       " 11: 'love',\n",
       " 2: 'sadness',\n",
       " 6: 'neutral',\n",
       " 3: 'worry',\n",
       " 0: 'hate',\n",
       " 12: 'happiness',\n",
       " 1: 'anger',\n",
       " 5: 'empty',\n",
       " 7: 'relief',\n",
       " 4: 'boredom'}"
      ]
     },
     "execution_count": 144,
     "metadata": {},
     "output_type": "execute_result"
    }
   ],
   "source": [
    "ordinaldecoder"
   ]
  },
  {
   "cell_type": "code",
   "execution_count": 145,
   "metadata": {},
   "outputs": [],
   "source": [
    "df.to_csv(\"cleaned_train.csv\")"
   ]
  },
  {
   "cell_type": "code",
   "execution_count": null,
   "metadata": {},
   "outputs": [],
   "source": []
  }
 ],
 "metadata": {
  "kernelspec": {
   "display_name": "Python 3",
   "language": "python",
   "name": "python3"
  },
  "language_info": {
   "codemirror_mode": {
    "name": "ipython",
    "version": 3
   },
   "file_extension": ".py",
   "mimetype": "text/x-python",
   "name": "python",
   "nbconvert_exporter": "python",
   "pygments_lexer": "ipython3",
   "version": "3.8.3"
  }
 },
 "nbformat": 4,
 "nbformat_minor": 4
}
